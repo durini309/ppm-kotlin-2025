{
 "cells": [
  {
   "cell_type": "markdown",
   "id": "cell-0",
   "metadata": {},
   "source": [
    "# Ciclos en Kotlin\n",
    "Los ciclos nos permiten repetir bloques de código múltiples veces de manera eficiente."
   ]
  },
  {
   "cell_type": "markdown",
   "id": "cell-1",
   "metadata": {},
   "source": [
    "## `for` con rangos\n",
    "La forma más básica de usar `for` es con rangos de números."
   ]
  },
  {
   "cell_type": "code",
   "id": "cell-2",
   "metadata": {
    "ExecuteTime": {
     "end_time": "2025-07-17T18:32:55.927508Z",
     "start_time": "2025-07-17T18:32:55.738534Z"
    }
   },
   "source": [
    "// Rango básico del 1 al 5\n",
    "for (i in 1..5) {\n",
    "    println(\"Número: $i\")\n",
    "}\n",
    "\n",
    "println(\"---\")\n",
    "\n",
    "// Rango hasta (excluyendo el último número)\n",
    "for (i in 1 until 5) {\n",
    "    println(\"Número: $i\")\n",
    "}"
   ],
   "outputs": [
    {
     "name": "stdout",
     "output_type": "stream",
     "text": [
      "Número: 1\n",
      "Número: 2\n",
      "Número: 3\n",
      "Número: 4\n",
      "Número: 5\n",
      "---\n",
      "Número: 1\n",
      "Número: 2\n",
      "Número: 3\n",
      "Número: 4\n"
     ]
    }
   ],
   "execution_count": 1
  },
  {
   "cell_type": "markdown",
   "id": "cell-3",
   "metadata": {},
   "source": [
    "## `for` con `downTo` y `step`\n",
    "Podemos iterar en orden descendente y cambiar el incremento."
   ]
  },
  {
   "cell_type": "code",
   "id": "cell-4",
   "metadata": {
    "ExecuteTime": {
     "end_time": "2025-07-17T04:10:36.696885Z",
     "start_time": "2025-07-17T04:10:36.488158Z"
    }
   },
   "source": [
    "// Orden descendente\n",
    "for (i in 10 downTo 1) {\n",
    "    println(\"Cuenta regresiva: $i\")\n",
    "}\n",
    "\n",
    "println(\"---\")\n",
    "\n",
    "// Con paso específico\n",
    "for (i in 0..20 step 5) {\n",
    "    println(\"Múltiplo de 5: $i\")\n",
    "}\n",
    "\n",
    "println(\"---\")\n",
    "\n",
    "// Combinando downTo y step\n",
    "for (i in 20 downTo 0 step 3) {\n",
    "    println(\"Descendente con paso 3: $i\")\n",
    "}"
   ],
   "outputs": [
    {
     "name": "stdout",
     "output_type": "stream",
     "text": [
      "Cuenta regresiva: 10\n",
      "Cuenta regresiva: 9\n",
      "Cuenta regresiva: 8\n",
      "Cuenta regresiva: 7\n",
      "Cuenta regresiva: 6\n",
      "Cuenta regresiva: 5\n",
      "Cuenta regresiva: 4\n",
      "Cuenta regresiva: 3\n",
      "Cuenta regresiva: 2\n",
      "Cuenta regresiva: 1\n",
      "---\n",
      "Múltiplo de 5: 0\n",
      "Múltiplo de 5: 5\n",
      "Múltiplo de 5: 10\n",
      "Múltiplo de 5: 15\n",
      "Múltiplo de 5: 20\n",
      "---\n",
      "Descendente con paso 3: 20\n",
      "Descendente con paso 3: 17\n",
      "Descendente con paso 3: 14\n",
      "Descendente con paso 3: 11\n",
      "Descendente con paso 3: 8\n",
      "Descendente con paso 3: 5\n",
      "Descendente con paso 3: 2\n"
     ]
    }
   ],
   "execution_count": 2
  },
  {
   "cell_type": "markdown",
   "id": "cell-5",
   "metadata": {},
   "source": [
    "## `for` con `MutableList`\n",
    "Recorriendo listas y modificando elementos."
   ]
  },
  {
   "cell_type": "code",
   "id": "cell-6",
   "metadata": {
    "ExecuteTime": {
     "end_time": "2025-07-17T04:11:09.616207Z",
     "start_time": "2025-07-17T04:11:09.282460Z"
    }
   },
   "source": [
    "val fruits = mutableListOf(\"manzana\", \"banana\", \"naranja\", \"uva\")\n",
    "\n",
    "// Recorrer elementos directamente\n",
    "for (fruit in fruits) {\n",
    "    println(\"Fruta: $fruit\")\n",
    "}\n",
    "\n",
    "println(\"---\")\n",
    "\n",
    "// Agregar elementos durante la iteración (en una nueva lista)\n",
    "val numbers = mutableListOf(1, 2, 3, 4, 5)\n",
    "val doubled = mutableListOf<Int>()\n",
    "\n",
    "for (num in numbers) {\n",
    "    doubled.add(num * 2)\n",
    "}\n",
    "\n",
    "println(\"Números originales: $numbers\")\n",
    "println(\"Números duplicados: $doubled\")"
   ],
   "outputs": [
    {
     "name": "stdout",
     "output_type": "stream",
     "text": [
      "Fruta: manzana\n",
      "Fruta: banana\n",
      "Fruta: naranja\n",
      "Fruta: uva\n",
      "---\n",
      "Números originales: [1, 2, 3, 4, 5]\n",
      "Números duplicados: [2, 4, 6, 8, 10]\n"
     ]
    }
   ],
   "execution_count": 3
  },
  {
   "cell_type": "markdown",
   "id": "cell-7",
   "metadata": {},
   "source": [
    "## `for` con índices\n",
    "Accediendo tanto al índice como al valor de los elementos."
   ]
  },
  {
   "cell_type": "code",
   "id": "cell-8",
   "metadata": {
    "ExecuteTime": {
     "end_time": "2025-07-17T04:12:18.085486Z",
     "start_time": "2025-07-17T04:12:17.718586Z"
    }
   },
   "source": [
    "val colors = mutableListOf(\"rojo\", \"verde\", \"azul\", \"amarillo\")\n",
    "\n",
    "// Usando indices de la lista\n",
    "for (i in colors.indices) {\n",
    "    println(\"Índice $i: ${colors[i]}\")\n",
    "}\n",
    "\n",
    "println(\"---\")\n",
    "\n",
    "// Usando withIndex() para obtener índice y valor\n",
    "for ((index, color) in colors.withIndex()) {\n",
    "    println(\"Posición $index: $color\")\n",
    "}\n",
    "\n",
    "println(\"---\")\n",
    "\n",
    "// Modificar elementos usando índices\n",
    "for (i in colors.indices) {\n",
    "    colors[i] = colors[i].uppercase()\n",
    "}\n",
    "println(\"Colores en mayúsculas: $colors\")"
   ],
   "outputs": [
    {
     "name": "stdout",
     "output_type": "stream",
     "text": [
      "Índice 0: rojo\n",
      "Índice 1: verde\n",
      "Índice 2: azul\n",
      "Índice 3: amarillo\n",
      "---\n",
      "Posición 0: rojo\n",
      "Posición 1: verde\n",
      "Posición 2: azul\n",
      "Posición 3: amarillo\n",
      "---\n",
      "Colores en mayúsculas: [ROJO, VERDE, AZUL, AMARILLO]\n"
     ]
    }
   ],
   "execution_count": 4
  },
  {
   "cell_type": "markdown",
   "id": "cell-11",
   "metadata": {},
   "source": [
    "## `while` básico\n",
    "El ciclo `while` se ejecuta mientras una condición sea verdadera."
   ]
  },
  {
   "cell_type": "code",
   "id": "cell-12",
   "metadata": {
    "ExecuteTime": {
     "end_time": "2025-07-17T04:12:44.441249Z",
     "start_time": "2025-07-17T04:12:44.277358Z"
    }
   },
   "source": [
    "var counter = 1\n",
    "while (counter <= 5) {\n",
    "    println(\"Contador: $counter\")\n",
    "    counter++\n",
    "}\n",
    "\n",
    "println(\"---\")\n",
    "\n",
    "// Suma de números del 1 al 10\n",
    "var sum = 0\n",
    "var num = 1\n",
    "while (num <= 10) {\n",
    "    sum += num\n",
    "    num++\n",
    "}\n",
    "println(\"La suma de números del 1 al 10 es: $sum\")"
   ],
   "outputs": [
    {
     "name": "stdout",
     "output_type": "stream",
     "text": [
      "Contador: 1\n",
      "Contador: 2\n",
      "Contador: 3\n",
      "Contador: 4\n",
      "Contador: 5\n",
      "---\n",
      "La suma de números del 1 al 10 es: 55\n"
     ]
    }
   ],
   "execution_count": 5
  },
  {
   "cell_type": "markdown",
   "id": "cell-13",
   "metadata": {},
   "source": [
    "## `do-while`\n",
    "Se ejecuta al menos una vez, luego verifica la condición."
   ]
  },
  {
   "cell_type": "code",
   "id": "cell-14",
   "metadata": {
    "ExecuteTime": {
     "end_time": "2025-07-17T04:13:12.479935Z",
     "start_time": "2025-07-17T04:13:12.281033Z"
    }
   },
   "source": [
    "var attempts = 0\n",
    "do {\n",
    "    attempts++\n",
    "    println(\"Intento número: $attempts\")\n",
    "} while (attempts < 3)\n",
    "\n",
    "println(\"---\")\n",
    "\n",
    "// Ejemplo con validación\n",
    "var input = -1\n",
    "var validInput = false\n",
    "do {\n",
    "    input = (1..10).random() // Simula entrada del usuario\n",
    "    println(\"Número generado: $input\")\n",
    "    if (input >= 5) {\n",
    "        validInput = true\n",
    "        println(\"Número válido encontrado!\")\n",
    "    } else {\n",
    "        println(\"Número muy pequeño, intentando de nuevo...\")\n",
    "    }\n",
    "} while (!validInput)"
   ],
   "outputs": [
    {
     "name": "stdout",
     "output_type": "stream",
     "text": [
      "Intento número: 1\n",
      "Intento número: 2\n",
      "Intento número: 3\n",
      "---\n",
      "Número generado: 1\n",
      "Número muy pequeño, intentando de nuevo...\n",
      "Número generado: 4\n",
      "Número muy pequeño, intentando de nuevo...\n",
      "Número generado: 2\n",
      "Número muy pequeño, intentando de nuevo...\n",
      "Número generado: 3\n",
      "Número muy pequeño, intentando de nuevo...\n",
      "Número generado: 2\n",
      "Número muy pequeño, intentando de nuevo...\n",
      "Número generado: 2\n",
      "Número muy pequeño, intentando de nuevo...\n",
      "Número generado: 2\n",
      "Número muy pequeño, intentando de nuevo...\n",
      "Número generado: 4\n",
      "Número muy pequeño, intentando de nuevo...\n",
      "Número generado: 8\n",
      "Número válido encontrado!\n"
     ]
    }
   ],
   "execution_count": 6
  },
  {
   "cell_type": "markdown",
   "id": "cell-15",
   "metadata": {},
   "source": [
    "## `while` con listas\n",
    "Recorriendo y modificando listas con `while`."
   ]
  },
  {
   "cell_type": "code",
   "execution_count": null,
   "id": "cell-16",
   "metadata": {},
   "outputs": [],
   "source": [
    "val tasks = mutableListOf(\"estudiar\", \"programar\", \"ejercitarse\", \"leer\")\n",
    "println(\"Tareas pendientes: $tasks\")\n",
    "\n",
    "while (tasks.isNotEmpty()) {\n",
    "    val completedTask = tasks.removeAt(0)\n",
    "    println(\"Tarea completada: $completedTask\")\n",
    "    println(\"Tareas restantes: $tasks\")\n",
    "}\n",
    "\n",
    "println(\"¡Todas las tareas completadas!\")\n",
    "\n",
    "println(\"---\")\n",
    "\n",
    "// Buscar un elemento específico\n",
    "val names = mutableListOf(\"Ana\", \"Carlos\", \"María\", \"José\", \"Luis\")\n",
    "val searchName = \"María\"\n",
    "var index = 0\n",
    "var found = false\n",
    "\n",
    "while (index < names.size && !found) {\n",
    "    if (names[index] == searchName) {\n",
    "        found = true\n",
    "        println(\"$searchName encontrado en la posición $index\")\n",
    "    } else {\n",
    "        index++\n",
    "    }\n",
    "}\n",
    "\n",
    "if (!found) {\n",
    "    println(\"$searchName no fue encontrado\")\n",
    "}"
   ]
  },
  {
   "cell_type": "markdown",
   "id": "cell-19",
   "metadata": {},
   "source": [
    "## Control de flujo: `break` y `continue`\n",
    "Controlando la ejecución de los ciclos."
   ]
  },
  {
   "cell_type": "code",
   "id": "cell-20",
   "metadata": {
    "ExecuteTime": {
     "end_time": "2025-07-17T04:14:45.602048Z",
     "start_time": "2025-07-17T04:14:45.378865Z"
    }
   },
   "source": [
    "// Usando break para salir del ciclo\n",
    "println(\"Buscando el primer múltiplo de 7 mayor a 30:\")\n",
    "for (i in 31..100) {\n",
    "    if (i % 7 == 0) {\n",
    "        println(\"Encontrado: $i\")\n",
    "        break\n",
    "    }\n",
    "}\n",
    "\n",
    "println(\"---\")\n",
    "\n",
    "// Usando continue para saltar iteraciones\n",
    "println(\"Números del 1 al 10, saltando los múltiplos de 3:\")\n",
    "for (i in 1..10) {\n",
    "    if (i % 3 == 0) {\n",
    "        continue\n",
    "    }\n",
    "    println(i)\n",
    "}\n",
    "\n",
    "println(\"---\")\n",
    "\n",
    "// Ejemplo con while y break\n",
    "val randomNumbers = mutableListOf<Int>()\n",
    "while (true) {\n",
    "    val randomNum = (1..20).random()\n",
    "    randomNumbers.add(randomNum)\n",
    "    println(\"Número generado: $randomNum\")\n",
    "    \n",
    "    if (randomNum > 15) {\n",
    "        println(\"Número mayor a 15 encontrado, terminando...\")\n",
    "        break\n",
    "    }\n",
    "}\n",
    "println(\"Números generados: $randomNumbers\")"
   ],
   "outputs": [
    {
     "name": "stdout",
     "output_type": "stream",
     "text": [
      "Buscando el primer múltiplo de 7 mayor a 30:\n",
      "Encontrado: 35\n",
      "---\n",
      "Números del 1 al 10, saltando los múltiplos de 3:\n",
      "1\n",
      "2\n",
      "4\n",
      "5\n",
      "7\n",
      "8\n",
      "10\n",
      "---\n",
      "Número generado: 2\n",
      "Número generado: 1\n",
      "Número generado: 8\n",
      "Número generado: 4\n",
      "Número generado: 7\n",
      "Número generado: 17\n",
      "Número mayor a 15 encontrado, terminando...\n",
      "Números generados: [2, 1, 8, 4, 7, 17]\n"
     ]
    }
   ],
   "execution_count": 7
  }
 ],
 "metadata": {
  "kernelspec": {
   "display_name": "Kotlin",
   "language": "kotlin",
   "name": "kotlin"
  },
  "language_info": {
   "codemirror_mode": "text/x-kotlin",
   "name": "kotlin",
   "nbconvert_exporter": "",
   "pygments_lexer": "kotlin",
   "version": "1.8.20"
  }
 },
 "nbformat": 4,
 "nbformat_minor": 5
}
