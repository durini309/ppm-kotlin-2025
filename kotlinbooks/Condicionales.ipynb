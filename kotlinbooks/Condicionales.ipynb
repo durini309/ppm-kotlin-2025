{
 "cells": [
  {
   "cell_type": "markdown",
   "id": "cell-0",
   "metadata": {},
   "source": [
    "# Condicionales en Kotlin\n",
    "Las estructuras condicionales nos permiten ejecutar diferentes bloques de código basándose en condiciones específicas."
   ]
  },
  {
   "cell_type": "markdown",
   "id": "cell-1",
   "metadata": {},
   "source": [
    "## `if` statement\n",
    "La estructura condicional más básica en Kotlin. Permite ejecutar código basándose en una condición booleana."
   ]
  },
  {
   "cell_type": "code",
   "id": "cell-2",
   "metadata": {
    "ExecuteTime": {
     "end_time": "2025-07-17T03:55:30.082207Z",
     "start_time": "2025-07-17T03:55:29.941108Z"
    }
   },
   "source": [
    "fun esPar(num: Int) {\n",
    "    var isEven: Boolean\n",
    "    if (num % 2 == 0) {\n",
    "        isEven = true\n",
    "    } else {\n",
    "        isEven = false\n",
    "    }\n",
    "    println(\"esPar: $isEven\")\n",
    "}\n",
    "\n",
    "esPar(4)\n",
    "esPar(7)"
   ],
   "outputs": [
    {
     "name": "stdout",
     "output_type": "stream",
     "text": [
      "esPar: true\n",
      "esPar: false\n"
     ]
    }
   ],
   "execution_count": 1
  },
  {
   "cell_type": "markdown",
   "id": "cell-3",
   "metadata": {},
   "source": [
    "En Kotlin, `if` es una expresión, no solo una declaración. Esto significa que puede retornar un valor."
   ]
  },
  {
   "cell_type": "code",
   "id": "cell-4",
   "metadata": {
    "ExecuteTime": {
     "end_time": "2025-07-17T18:03:59.119088Z",
     "start_time": "2025-07-17T18:03:59.030699Z"
    }
   },
   "source": [
    "val age = 18\n",
    "val message = if (age >= 18) \"Es mayor de edad\" else \"Es menor de edad\"\n",
    "println(message)\n",
    "\n",
    "val grade = 85\n",
    "val letterGrade = if (grade >= 90) {\n",
    "    \"A\"\n",
    "} else if (grade >= 80) {\n",
    "    \"B\"\n",
    "} else if (grade >= 70) {\n",
    "    \"C\"\n",
    "} else if (grade >= 60) {\n",
    "    \"D\"\n",
    "} else {\n",
    "    \"F\"\n",
    "}\n",
    "println(\"Calificación: $letterGrade\")"
   ],
   "outputs": [
    {
     "name": "stdout",
     "output_type": "stream",
     "text": [
      "Es mayor de edad\n",
      "Calificación: B\n"
     ]
    }
   ],
   "execution_count": 2
  },
  {
   "cell_type": "markdown",
   "id": "cell-5",
   "metadata": {},
   "source": [
    "## `when` statement\n",
    "`when` es una estructura condicional más poderosa que reemplaza al `switch` de otros lenguajes. Es más flexible y expresiva."
   ]
  },
  {
   "cell_type": "code",
   "execution_count": null,
   "id": "cell-6",
   "metadata": {},
   "outputs": [],
   "source": [
    "fun dayOfWeek(day: Int) {\n",
    "    when (day) {\n",
    "        1 -> println(\"Lunes\")\n",
    "        2 -> println(\"Martes\")\n",
    "        3 -> println(\"Miércoles\")\n",
    "        4 -> println(\"Jueves\")\n",
    "        5 -> println(\"Viernes\")\n",
    "        6 -> println(\"Sábado\")\n",
    "        7 -> println(\"Domingo\")\n",
    "        else -> println(\"Día inválido\")\n",
    "    }\n",
    "}\n",
    "\n",
    "dayOfWeek(3)\n",
    "dayOfWeek(8)"
   ]
  },
  {
   "cell_type": "markdown",
   "id": "cell-7",
   "metadata": {},
   "source": [
    "Al igual que `if`, `when` también puede ser usado como expresión y retornar valores:"
   ]
  },
  {
   "cell_type": "code",
   "id": "cell-8",
   "metadata": {
    "ExecuteTime": {
     "end_time": "2025-07-17T18:05:32.439885Z",
     "start_time": "2025-07-17T18:05:32.218266Z"
    }
   },
   "source": [
    "fun getSeasonByMonth(month: Int): String {\n",
    "    return when (month) {\n",
    "        12, 1, 2 -> \"Invierno\"\n",
    "        3, 4, 5 -> \"Primavera\"\n",
    "        6, 7, 8 -> \"Verano\"\n",
    "        9, 10, 11 -> \"Otoño\"\n",
    "        else -> \"Mes inválido\"\n",
    "    }\n",
    "}\n",
    "\n",
    "println(\"Mes 7: ${getSeasonByMonth(7)}\")\n",
    "println(\"Mes 12: ${getSeasonByMonth(12)}\")\n",
    "println(\"Mes 13: ${getSeasonByMonth(13)}\")"
   ],
   "outputs": [
    {
     "name": "stdout",
     "output_type": "stream",
     "text": [
      "Mes 7: Verano\n",
      "Mes 12: Invierno\n",
      "Mes 13: Mes inválido\n"
     ]
    }
   ],
   "execution_count": 3
  },
  {
   "cell_type": "markdown",
   "id": "cell-9",
   "metadata": {},
   "source": [
    "`when` también puede usar rangos y condiciones más complejas:"
   ]
  },
  {
   "cell_type": "code",
   "id": "cell-10",
   "metadata": {
    "ExecuteTime": {
     "end_time": "2025-07-17T18:06:26.612105Z",
     "start_time": "2025-07-17T18:06:26.500007Z"
    }
   },
   "source": [
    "fun classifyNumber(num: Int): String {\n",
    "    return when {\n",
    "        num < 0 -> \"Negativo\"\n",
    "        num == 0 -> \"Cero\"\n",
    "        num in 1..10 -> \"Entre 1 y 10\"\n",
    "        num in 11..100 -> \"Entre 11 y 100\"\n",
    "        num > 100 -> \"Mayor a 100\"\n",
    "        else -> \"No clasificado\"\n",
    "    }\n",
    "}\n",
    "\n",
    "println(\"5: ${classifyNumber(5)}\")\n",
    "println(\"50: ${classifyNumber(50)}\")\n",
    "println(\"-3: ${classifyNumber(-3)}\")\n",
    "println(\"150: ${classifyNumber(150)}\")"
   ],
   "outputs": [
    {
     "name": "stdout",
     "output_type": "stream",
     "text": [
      "5: Entre 1 y 10\n",
      "50: Entre 11 y 100\n",
      "-3: Negativo\n",
      "150: Mayor a 100\n"
     ]
    }
   ],
   "execution_count": 4
  },
  {
   "cell_type": "markdown",
   "id": "cell-11",
   "metadata": {},
   "source": [
    "`when` también puede verificar tipos de datos:"
   ]
  },
  {
   "cell_type": "code",
   "id": "cell-12",
   "metadata": {
    "ExecuteTime": {
     "end_time": "2025-07-17T18:07:36.032648Z",
     "start_time": "2025-07-17T18:07:35.948862Z"
    }
   },
   "source": [
    "fun describeValue(value: Any): String {\n",
    "    return when (value) {\n",
    "        is String -> \"Es un texto: $value\"\n",
    "        is Int -> \"Es un número entero: $value\"\n",
    "        is Double -> \"Es un número decimal: $value\"\n",
    "        is Boolean -> \"Es un booleano: $value\"\n",
    "        else -> \"Tipo desconocido\"\n",
    "    }\n",
    "}\n",
    "\n",
    "println(describeValue(\"Hola\"))\n",
    "println(describeValue(42))\n",
    "println(describeValue(3.14))\n",
    "println(describeValue(true))"
   ],
   "outputs": [
    {
     "name": "stdout",
     "output_type": "stream",
     "text": [
      "Es un texto: Hola\n",
      "Es un número entero: 42\n",
      "Es un número decimal: 3.14\n",
      "Es un booleano: true\n"
     ]
    }
   ],
   "execution_count": 5
  }
 ],
 "metadata": {
  "kernelspec": {
   "display_name": "Kotlin",
   "language": "kotlin",
   "name": "kotlin"
  },
  "language_info": {
   "codemirror_mode": "text/x-kotlin",
   "file_extension": ".kt",
   "mimetype": "text/x-kotlin",
   "name": "kotlin",
   "nbconvert_exporter": "",
   "pygments_lexer": "kotlin",
   "version": "1.8.20"
  }
 },
 "nbformat": 4,
 "nbformat_minor": 5
}
