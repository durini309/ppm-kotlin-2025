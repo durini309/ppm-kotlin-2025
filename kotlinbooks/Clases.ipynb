{
 "cells": [
  {
   "cell_type": "markdown",
   "metadata": {},
   "source": [
    "# Clases en Kotlin\n",
    "Las clases son plantillas para crear objetos que encapsulan datos (propiedades) y comportamientos (funciones)."
   ]
  },
  {
   "cell_type": "markdown",
   "metadata": {},
   "source": [
    "## Clase sin parámetros\n",
    "La forma más básica de definir una clase."
   ]
  },
  {
   "cell_type": "code",
   "metadata": {
    "vscode": {
     "languageId": "kotlin"
    },
    "ExecuteTime": {
     "end_time": "2025-07-21T17:42:31.978907Z",
     "start_time": "2025-07-21T17:42:31.884009Z"
    }
   },
   "source": [
    "class NoParameters {\n",
    "    fun myFunction() {\n",
    "        println(\"myFunction was called\")\n",
    "    }\n",
    "}\n",
    "\n",
    "// Crear una instancia y llamar la función\n",
    "val newClass = NoParameters()\n",
    "newClass.myFunction()"
   ],
   "outputs": [
    {
     "name": "stdout",
     "output_type": "stream",
     "text": [
      "myFunction was called\n"
     ]
    }
   ],
   "execution_count": 6
  },
  {
   "cell_type": "markdown",
   "metadata": {},
   "source": [
    "## Clase con propiedades\n",
    "Las clases pueden tener propiedades que almacenen datos."
   ]
  },
  {
   "cell_type": "code",
   "metadata": {
    "vscode": {
     "languageId": "kotlin"
    },
    "ExecuteTime": {
     "end_time": "2025-07-21T17:42:57.252248Z",
     "start_time": "2025-07-21T17:42:57.188065Z"
    }
   },
   "source": [
    "class withProperties {\n",
    "    var myProperty = 10\n",
    "}\n",
    "\n",
    "// Crear instancia y acceder a la propiedad\n",
    "val newClassWithProperties = withProperties()\n",
    "println(\"Valor de myProperty: ${newClassWithProperties.myProperty}\")\n",
    "\n",
    "// Modificar la propiedad\n",
    "newClassWithProperties.myProperty = 25\n",
    "println(\"Nuevo valor de myProperty: ${newClassWithProperties.myProperty}\")"
   ],
   "outputs": [
    {
     "name": "stdout",
     "output_type": "stream",
     "text": [
      "Valor de myProperty: 10\n",
      "Nuevo valor de myProperty: 25\n"
     ]
    }
   ],
   "execution_count": 7
  },
  {
   "cell_type": "markdown",
   "metadata": {},
   "source": [
    "## Constructor primario con bloque `init`\n",
    "Los constructores permiten inicializar objetos con valores específicos."
   ]
  },
  {
   "cell_type": "code",
   "metadata": {
    "vscode": {
     "languageId": "kotlin"
    },
    "ExecuteTime": {
     "end_time": "2025-07-21T17:44:08.293188Z",
     "start_time": "2025-07-21T17:44:08.125949Z"
    }
   },
   "source": [
    "class withConstructor(myProperty: Int) {\n",
    "    init {\n",
    "        println(\"Los parámetros del constructor se pueden usar en estos bloques: $myProperty\")\n",
    "    }\n",
    "    \n",
    "    val myCustomProperty = (myProperty * 10)\n",
    "    \n",
    "    init {\n",
    "        println(\"Podemos tener múltiples bloques de init. Corren secuenciales\")\n",
    "        println(\"Podemos usar los parámetros en el constructor para inicializar otras variables: $myCustomProperty\")\n",
    "    }\n",
    "}\n",
    "\n",
    "// Crear instancia con parámetro\n",
    "val newWithConstructor = withConstructor(50)"
   ],
   "outputs": [
    {
     "name": "stdout",
     "output_type": "stream",
     "text": [
      "Los parámetros del constructor se pueden usar en estos bloques: 50\n",
      "Podemos tener múltiples bloques de init. Corren secuenciales\n",
      "Podemos usar los parámetros en el constructor para inicializar otras variables: 500\n"
     ]
    }
   ],
   "execution_count": 8
  },
  {
   "cell_type": "markdown",
   "metadata": {},
   "source": [
    "## Constructor con propiedades directas\n",
    "Podemos declarar propiedades directamente en el constructor primario."
   ]
  },
  {
   "cell_type": "code",
   "metadata": {
    "vscode": {
     "languageId": "kotlin"
    },
    "ExecuteTime": {
     "end_time": "2025-07-21T17:45:44.906383Z",
     "start_time": "2025-07-21T17:45:44.794188Z"
    }
   },
   "source": [
    "class constructorWithProperties(\n",
    "    val readOnlyVal: String,      // Propiedad de solo lectura\n",
    "    var editableVar: Int,         // Propiedad editable\n",
    "    var nullableVar: Boolean?,    // Propiedad que puede ser null\n",
    "    var withDefaultValue: String = \"hola\" // Propiedad con valor por defecto\n",
    ") {\n",
    "    init {\n",
    "        println(\"$readOnlyVal, $editableVar, $nullableVar, $withDefaultValue\")\n",
    "    }\n",
    "}\n",
    "\n",
    "// Crear instancia con todos los parámetros\n",
    "val newWithConstructorAndProperties = constructorWithProperties(\n",
    "    \"Juan Carlos\",\n",
    "    27,\n",
    "    true,\n",
    "    \"Durini\"\n",
    ")\n",
    "\n",
    "println(\"---\")\n",
    "\n",
    "// Crear instancia usando el valor por defecto\n",
    "val withDefault = constructorWithProperties(\n",
    "    \"María\",\n",
    "    30,\n",
    "    null\n",
    "    // withDefaultValue usa \"hola\" por defecto\n",
    ")"
   ],
   "outputs": [
    {
     "name": "stdout",
     "output_type": "stream",
     "text": [
      "Juan Carlos, 27, true, Durini\n",
      "---\n",
      "María, 30, null, hola\n"
     ]
    }
   ],
   "execution_count": 9
  },
  {
   "cell_type": "markdown",
   "metadata": {},
   "source": [
    "## Constructor secundario\n",
    "Las clases pueden tener múltiples constructores para diferentes formas de inicialización."
   ]
  },
  {
   "cell_type": "code",
   "metadata": {
    "vscode": {
     "languageId": "kotlin"
    },
    "ExecuteTime": {
     "end_time": "2025-07-21T17:46:59.794823Z",
     "start_time": "2025-07-21T17:46:59.686332Z"
    }
   },
   "source": [
    "class withSecondaryConstructor(\n",
    "    var myProperty: Int\n",
    ") {\n",
    "    \n",
    "    init {\n",
    "        println(\"withSecondaryConstructor called with primary constructor myProperty = $myProperty\")\n",
    "    }\n",
    "    \n",
    "    // Constructor secundario que debe llamar al primario con 'this()'\n",
    "    constructor(prop1: Int, prop2: Int) : this(prop1 + prop2) {\n",
    "        println(\"withSecondaryConstructor called with secondary constructor myProperty = $myProperty\")\n",
    "    }\n",
    "}\n",
    "\n",
    "// Usando el constructor primario\n",
    "println(\"=== Constructor primario ===\")\n",
    "val primaryConstructor = withSecondaryConstructor(15)\n",
    "\n",
    "println(\"=== Constructor secundario ===\")\n",
    "// Usando el constructor secundario\n",
    "val secondaryConstructor = withSecondaryConstructor(10, 20)"
   ],
   "outputs": [
    {
     "name": "stdout",
     "output_type": "stream",
     "text": [
      "=== Constructor primario ===\n",
      "withSecondaryConstructor called with primary constructor myProperty = 15\n",
      "=== Constructor secundario ===\n",
      "withSecondaryConstructor called with primary constructor myProperty = 30\n",
      "withSecondaryConstructor called with secondary constructor myProperty = 30\n"
     ]
    }
   ],
   "execution_count": 10
  },
  {
   "cell_type": "markdown",
   "metadata": {},
   "source": [
    "## Métodos estáticos con `companion object`\n",
    "Los métodos estáticos se pueden llamar sin crear una instancia de la clase."
   ]
  },
  {
   "cell_type": "code",
   "metadata": {
    "vscode": {
     "languageId": "kotlin"
    },
    "ExecuteTime": {
     "end_time": "2025-07-21T17:48:51.620554Z",
     "start_time": "2025-07-21T17:48:51.517921Z"
    }
   },
   "source": [
    "class withStaticMethod {\n",
    "    companion object {\n",
    "        fun doSomething() {\n",
    "            println(\"static method called\")\n",
    "        }\n",
    "        \n",
    "        fun calculate(a: Int, b: Int): Int {\n",
    "            return a * b\n",
    "        }\n",
    "        \n",
    "        const val CONSTANT_VALUE = \"Esta es una constante\"\n",
    "    }\n",
    "}\n",
    "\n",
    "// Llamar métodos estáticos sin crear instancia\n",
    "withStaticMethod.doSomething()\n",
    "println(\"Resultado del cálculo: ${withStaticMethod.calculate(5, 3)}\")\n",
    "println(\"Constante: ${withStaticMethod.CONSTANT_VALUE}\")"
   ],
   "outputs": [
    {
     "name": "stdout",
     "output_type": "stream",
     "text": [
      "static method called\n",
      "Resultado del cálculo: 15\n",
      "Constante: Esta es una constante\n"
     ]
    }
   ],
   "execution_count": 11
  },
  {
   "cell_type": "markdown",
   "metadata": {},
   "source": [
    "## Ejemplo completo: Clase `Person`\n",
    "Un ejemplo más práctico combinando varios conceptos."
   ]
  },
  {
   "cell_type": "code",
   "metadata": {
    "vscode": {
     "languageId": "kotlin"
    },
    "ExecuteTime": {
     "end_time": "2025-07-21T17:50:35.642938Z",
     "start_time": "2025-07-21T17:50:35.431106Z"
    }
   },
   "source": [
    "class Person(\n",
    "    val name: String,\n",
    "    var age: Int,\n",
    "    val email: String = \"no-email@example.com\"\n",
    ") {\n",
    "    // Propiedad calculada\n",
    "    val isAdult: Boolean\n",
    "        get() = age >= 18\n",
    "    \n",
    "    init {\n",
    "        println(\"Persona creada: $name, $age años\")\n",
    "    }\n",
    "    \n",
    "    // Constructor secundario\n",
    "    constructor(name: String) : this(name, 0) {\n",
    "        println(\"Persona creada solo con nombre\")\n",
    "    }\n",
    "    \n",
    "    // Métodos de instancia\n",
    "    fun introduce() {\n",
    "        println(\"Hola, soy $name y tengo $age años\")\n",
    "        println(\"Mi email es: $email\")\n",
    "        println(\"¿Soy adulto? $isAdult\")\n",
    "    }\n",
    "    \n",
    "    fun celebrateBirthday() {\n",
    "        age++\n",
    "        println(\"¡Feliz cumpleaños $name! Ahora tienes $age años\")\n",
    "    }\n",
    "    \n",
    "    companion object {\n",
    "        fun createDefaultPerson(): Person {\n",
    "            return Person(\"Usuario Anónimo\", 25, \"anonimo@example.com\")\n",
    "        }\n",
    "    }\n",
    "}\n",
    "\n",
    "// Crear diferentes instancias\n",
    "val person1 = Person(\"Ana García\", 22, \"ana@email.com\")\n",
    "person1.introduce()\n",
    "\n",
    "println(\"\\n---\\n\")\n",
    "\n",
    "val person2 = Person(\"Carlos López\", 17)\n",
    "person2.introduce()\n",
    "\n",
    "println(\"\\n---\\n\")\n",
    "\n",
    "val person3 = Person(\"María\")\n",
    "person3.introduce()\n",
    "\n",
    "println(\"\\n---\\n\")\n",
    "\n",
    "// Usar método estático\n",
    "val defaultPerson = Person.createDefaultPerson()\n",
    "defaultPerson.introduce()\n",
    "defaultPerson.celebrateBirthday()"
   ],
   "outputs": [
    {
     "name": "stdout",
     "output_type": "stream",
     "text": [
      "Persona creada: Ana García, 22 años\n",
      "Hola, soy Ana García y tengo 22 años\n",
      "Mi email es: ana@email.com\n",
      "¿Soy adulto? true\n",
      "\n",
      "---\n",
      "\n",
      "Persona creada: Carlos López, 17 años\n",
      "Hola, soy Carlos López y tengo 17 años\n",
      "Mi email es: no-email@example.com\n",
      "¿Soy adulto? false\n",
      "\n",
      "---\n",
      "\n",
      "Persona creada: María, 0 años\n",
      "Persona creada solo con nombre\n",
      "Hola, soy María y tengo 0 años\n",
      "Mi email es: no-email@example.com\n",
      "¿Soy adulto? false\n",
      "\n",
      "---\n",
      "\n",
      "Persona creada: Usuario Anónimo, 25 años\n",
      "Hola, soy Usuario Anónimo y tengo 25 años\n",
      "Mi email es: anonimo@example.com\n",
      "¿Soy adulto? true\n",
      "¡Feliz cumpleaños Usuario Anónimo! Ahora tienes 26 años\n"
     ]
    }
   ],
   "execution_count": 12
  }
 ],
 "metadata": {
  "kernelspec": {
   "display_name": "Kotlin",
   "language": "kotlin",
   "name": "kotlin"
  },
  "language_info": {
   "codemirror_mode": "text/x-kotlin",
   "file_extension": ".kt",
   "mimetype": "text/x-kotlin",
   "name": "kotlin",
   "nbconvert_exporter": "",
   "pygments_lexer": "kotlin",
   "version": "1.9.0"
  }
 },
 "nbformat": 4,
 "nbformat_minor": 4
}
