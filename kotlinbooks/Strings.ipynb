{
 "cells": [
  {
   "cell_type": "markdown",
   "id": "cell-0",
   "metadata": {},
   "source": [
    "# Strings en Kotlin\n",
    "Los strings (cadenas de texto) son uno de los tipos de datos más utilizados en programación. En Kotlin, los strings son objetos inmutables que ofrecen muchas funciones útiles para manipular texto."
   ]
  },
  {
   "cell_type": "markdown",
   "id": "cell-1",
   "metadata": {},
   "source": [
    "## Impresión básica de strings\n",
    "Para imprimir strings en Kotlin, utilizamos las funciones `print()` y `println()`. La diferencia es que `println()` añade un salto de línea al final."
   ]
  },
  {
   "cell_type": "code",
   "id": "cell-2",
   "metadata": {
    "ExecuteTime": {
     "end_time": "2025-07-13T20:14:49.420078Z",
     "start_time": "2025-07-13T20:14:49.299111Z"
    }
   },
   "source": [
    "val mensaje = \"Hola mundo\"\n",
    "print(\"Sin salto de línea: \")\n",
    "print(mensaje)\n",
    "println(\" - continuación\")\n",
    "println(\"Con salto de línea: $mensaje\")"
   ],
   "outputs": [
    {
     "name": "stdout",
     "output_type": "stream",
     "text": [
      "Sin salto de línea: Hola mundo - continuación\n",
      "Con salto de línea: Hola mundo\n"
     ]
    }
   ],
   "execution_count": 1
  },
  {
   "cell_type": "markdown",
   "id": "cell-3",
   "metadata": {},
   "source": [
    "## Lectura de entrada del usuario\n",
    "Para leer valores de la consola, utilizamos la función `readln()` que lee una línea completa como string."
   ]
  },
  {
   "cell_type": "code",
   "id": "cell-4",
   "metadata": {
    "ExecuteTime": {
     "end_time": "2025-07-13T20:15:02.157834Z",
     "start_time": "2025-07-13T20:15:02.049007Z"
    }
   },
   "source": [
    "// Ejemplo de lectura de entrada\n",
    "fun leerNombre() {\n",
    "    println(\"¿Cuál es tu nombre?\")\n",
    "    val nombre = readln()\n",
    "    println(\"Hola, $nombre!\")\n",
    "}\n",
    "\n",
    "// Para el notebook, simularemos la entrada\n",
    "val nombreSimulado = \"Carlos\"\n",
    "println(\"¿Cuál es tu nombre?\")\n",
    "println(\"Entrada simulada: $nombreSimulado\")\n",
    "println(\"Hola, $nombreSimulado!\")"
   ],
   "outputs": [
    {
     "name": "stdout",
     "output_type": "stream",
     "text": [
      "¿Cuál es tu nombre?\n",
      "Entrada simulada: Carlos\n",
      "Hola, Carlos!\n"
     ]
    }
   ],
   "execution_count": 2
  },
  {
   "cell_type": "markdown",
   "id": "cell-5",
   "metadata": {},
   "source": [
    "## Interpolación de strings\n",
    "La interpolación nos permite insertar variables y expresiones dentro de strings de manera sencilla usando el símbolo `$`."
   ]
  },
  {
   "cell_type": "code",
   "execution_count": null,
   "id": "cell-6",
   "metadata": {},
   "outputs": [],
   "source": [
    "val nombre = \"Ana\"\n",
    "val edad = 25\n",
    "val altura = 1.65\n",
    "\n",
    "// Interpolación simple con $\n",
    "println(\"Mi nombre es $nombre\")\n",
    "\n",
    "// Interpolación con expresiones usando ${}\n",
    "println(\"El próximo año $nombre tendrá ${edad + 1} años\")\n",
    "println(\"$nombre mide ${altura}m y pesa ${altura * 65} kg (aproximadamente)\")\n",
    "\n",
    "// También funciona con propiedades\n",
    "val texto = \"Kotlin\"\n",
    "println(\"La palabra '$texto' tiene ${texto.length} caracteres\")"
   ]
  },
  {
   "cell_type": "markdown",
   "id": "cell-7",
   "metadata": {},
   "source": [
    "## Strings multilínea\n",
    "Kotlin permite crear strings de múltiples líneas usando triple comillas `\"\"\"`."
   ]
  },
  {
   "cell_type": "code",
   "execution_count": null,
   "id": "cell-8",
   "metadata": {},
   "outputs": [],
   "source": [
    "val poema = \"\"\"\n",
    "    En un lugar de la Mancha,\n",
    "    de cuyo nombre no quiero acordarme,\n",
    "    no ha mucho tiempo que vivía\n",
    "    un hidalgo de los de lanza en astillero.\n",
    "\"\"\"\n",
    "\n",
    "println(poema)\n",
    "\n",
    "// También podemos usar trimIndent() para eliminar la indentación\n",
    "val mensaje = \"\"\"\n",
    "    Hola $nombre,\n",
    "    Bienvenido a Kotlin.\n",
    "    ¡Espero que disfrutes aprendiendo!\n",
    "\"\"\".trimIndent()\n",
    "\n",
    "println(mensaje)"
   ]
  },
  {
   "cell_type": "markdown",
   "id": "cell-9",
   "metadata": {},
   "source": [
    "## Funciones útiles de strings\n",
    "Los strings en Kotlin tienen muchas funciones integradas que facilitan su manipulación."
   ]
  },
  {
   "cell_type": "code",
   "execution_count": null,
   "id": "cell-10",
   "metadata": {},
   "outputs": [],
   "source": [
    "val frase = \"  Aprendiendo Kotlin es Divertido  \"\n",
    "\n",
    "// Longitud\n",
    "println(\"Longitud: ${frase.length}\")\n",
    "\n",
    "// Mayúsculas y minúsculas\n",
    "println(\"Mayúsculas: ${frase.uppercase()}\")\n",
    "println(\"Minúsculas: ${frase.lowercase()}\")\n",
    "\n",
    "// Eliminar espacios en blanco\n",
    "println(\"Sin espacios: '${frase.trim()}'\")\n",
    "\n",
    "// Verificar contenido\n",
    "println(\"¿Contiene 'Kotlin'?: ${frase.contains(\"Kotlin\")}\")\n",
    "println(\"¿Empieza con 'Apren'?: ${frase.trim().startsWith(\"Apren\")}\")\n",
    "println(\"¿Termina con 'tido'?: ${frase.trim().endsWith(\"tido\")}\")"
   ]
  },
  {
   "cell_type": "markdown",
   "id": "cell-11",
   "metadata": {},
   "source": [
    "## Dividir y unir strings\n",
    "Podemos dividir strings en listas y unir listas en strings."
   ]
  },
  {
   "cell_type": "code",
   "execution_count": null,
   "id": "cell-12",
   "metadata": {},
   "outputs": [],
   "source": [
    "val frase = \"manzana,pera,plátano,uva\"\n",
    "\n",
    "// Dividir por comas\n",
    "val frutas = frase.split(\",\")\n",
    "println(\"Frutas: $frutas\")\n",
    "\n",
    "// Acceder a elementos individuales\n",
    "println(\"Primera fruta: ${frutas[0]}\")\n",
    "println(\"Última fruta: ${frutas.last()}\")\n",
    "\n",
    "// Unir con un separador diferente\n",
    "val frutasConY = frutas.joinToString(\" y \")\n",
    "println(\"Frutas unidas: $frutasConY\")\n",
    "\n",
    "// Unir con formato personalizado\n",
    "val listaFrutas = frutas.joinToString(\", \", \"[\", \"]\")\n",
    "println(\"Lista formateada: $listaFrutas\")"
   ]
  },
  {
   "cell_type": "markdown",
   "id": "cell-15",
   "metadata": {},
   "source": [
    "## Comparación de strings\n",
    "Existen diferentes formas de comparar strings en Kotlin."
   ]
  },
  {
   "cell_type": "code",
   "execution_count": null,
   "id": "cell-16",
   "metadata": {},
   "outputs": [],
   "source": [
    "val str1 = \"Kotlin\"\n",
    "val str2 = \"kotlin\"\n",
    "val str3 = \"Kotlin\"\n",
    "\n",
    "// Comparación exacta (sensible a mayúsculas)\n",
    "println(\"¿'$str1' == '$str2'?: ${str1 == str2}\")\n",
    "println(\"¿'$str1' == '$str3'?: ${str1 == str3}\")\n",
    "\n",
    "// Comparación ignorando mayúsculas\n",
    "println(\"¿'$str1' equals '$str2' (ignorando mayúsculas)?: ${str1.equals(str2, ignoreCase = true)}\")\n",
    "\n",
    "// Verificar si está vacío o en blanco\n",
    "val vacio = \"\"\n",
    "val espacios = \"   \"\n",
    "println(\"¿String vacío está vacío?: ${vacio.isEmpty()}\")\n",
    "println(\"¿String con espacios está vacío?: ${espacios.isEmpty()}\")\n",
    "println(\"¿String con espacios está en blanco?: ${espacios.isBlank()}\")"
   ]
  }
 ],
 "metadata": {
  "kernelspec": {
   "display_name": "Kotlin",
   "language": "kotlin",
   "name": "kotlin"
  },
  "language_info": {
   "codemirror_mode": "text/x-kotlin",
   "file_extension": ".kt",
   "mimetype": "text/x-kotlin",
   "name": "kotlin",
   "nbconvert_exporter": "",
   "pygments_lexer": "kotlin",
   "version": "1.9.23"
  }
 },
 "nbformat": 4,
 "nbformat_minor": 5
}
