{
 "cells": [
  {
   "cell_type": "markdown",
   "id": "cell-0",
   "metadata": {},
   "source": [
    "# MutableList en Kotlin\n",
    "Las listas mutables nos permiten almacenar colecciones de elementos que pueden ser modificados después de su creación. Ojo, la versión **no mutable** de estas son las `List`."
   ]
  },
  {
   "cell_type": "markdown",
   "id": "cell-1",
   "metadata": {},
   "source": [
    "## Crear MutableList\n",
    "Diferentes formas de crear listas mutables."
   ]
  },
  {
   "cell_type": "code",
   "id": "cell-2",
   "metadata": {
    "ExecuteTime": {
     "end_time": "2025-07-21T17:00:52.831300Z",
     "start_time": "2025-07-21T17:00:52.674805Z"
    }
   },
   "source": [
    "// Lista vacía\n",
    "val emptyList = mutableListOf<String>()\n",
    "println(\"Lista vacía: $emptyList\")\n",
    "\n",
    "// Lista con elementos iniciales\n",
    "val fruits = mutableListOf(\"manzana\", \"banana\", \"naranja\")\n",
    "println(\"Frutas: $fruits\")\n",
    "\n",
    "// Lista de números\n",
    "val numbers = mutableListOf(1, 2, 3, 4, 5)\n",
    "println(\"Números: $numbers\")\n",
    "\n",
    "// Lista mixta (Any type)\n",
    "val mixedList = mutableListOf<Any>(\"texto\", 42, true, 3.14)\n",
    "println(\"Lista mixta: $mixedList\")"
   ],
   "outputs": [
    {
     "name": "stdout",
     "output_type": "stream",
     "text": [
      "Lista vacía: []\n",
      "Frutas: [manzana, banana, naranja]\n",
      "Números: [1, 2, 3, 4, 5]\n",
      "Lista mixta: [texto, 42, true, 3.14]\n"
     ]
    }
   ],
   "execution_count": 1
  },
  {
   "cell_type": "markdown",
   "id": "cell-3",
   "metadata": {},
   "source": [
    "## Agregar elementos\n",
    "Métodos para añadir elementos a la lista."
   ]
  },
  {
   "cell_type": "code",
   "id": "cell-4",
   "metadata": {
    "ExecuteTime": {
     "end_time": "2025-07-21T17:02:30.981777Z",
     "start_time": "2025-07-21T17:02:30.726984Z"
    }
   },
   "source": [
    "val animals = mutableListOf(\"perro\", \"gato\")\n",
    "println(\"Lista inicial: $animals\")\n",
    "\n",
    "// Agregar al final\n",
    "animals.add(\"pájaro\")\n",
    "println(\"Después de add: $animals\")\n",
    "\n",
    "// Agregar en posición específica\n",
    "animals.add(1, \"pez\")\n",
    "println(\"Después de add en posición 1: $animals\")\n",
    "\n",
    "// Agregar múltiples elementos\n",
    "animals.addAll(listOf(\"conejo\", \"hamster\"))\n",
    "println(\"Después de addAll: $animals\")\n",
    "\n",
    "// Operador += para agregar\n",
    "animals += \"tortuga\"\n",
    "println(\"Después de +=: $animals\")\n",
    "\n",
    "// Agregar lista con +=\n",
    "animals += listOf(\"serpiente\", \"iguana\")\n",
    "println(\"Después de += lista: $animals\")"
   ],
   "outputs": [
    {
     "name": "stdout",
     "output_type": "stream",
     "text": [
      "Lista inicial: [perro, gato]\n",
      "Después de add: [perro, gato, pájaro]\n",
      "Después de add en posición 1: [perro, pez, gato, pájaro]\n",
      "Después de addAll: [perro, pez, gato, pájaro, conejo, hamster]\n",
      "Después de +=: [perro, pez, gato, pájaro, conejo, hamster, tortuga]\n",
      "Después de += lista: [perro, pez, gato, pájaro, conejo, hamster, tortuga, serpiente, iguana]\n"
     ]
    }
   ],
   "execution_count": 2
  },
  {
   "cell_type": "markdown",
   "id": "cell-5",
   "metadata": {},
   "source": [
    "## Quitar elementos\n",
    "Métodos para eliminar elementos de la lista."
   ]
  },
  {
   "cell_type": "code",
   "id": "cell-6",
   "metadata": {
    "ExecuteTime": {
     "end_time": "2025-07-21T17:04:53.510224Z",
     "start_time": "2025-07-21T17:04:53.266767Z"
    }
   },
   "source": [
    "val colors = mutableListOf(\"rojo\", \"verde\", \"azul\", \"amarillo\", \"verde\", \"morado\")\n",
    "println(\"Lista inicial: $colors\")\n",
    "\n",
    "// Quitar por valor (solo la primera ocurrencia)\n",
    "val eliminado = colors.remove(\"verde\")\n",
    "println(\"Después de remove 'verde': $colors\")\n",
    "\n",
    "// Quitar por índice\n",
    "val removed = colors.removeAt(0)\n",
    "println(\"Elemento removido: $removed\")\n",
    "println(\"Después de removeAt(0): $colors\")\n",
    "\n",
    "// Quitar el último elemento\n",
    "val lastRemoved = colors.removeLast()\n",
    "println(\"Último elemento removido: $lastRemoved\")\n",
    "println(\"Después de removeLast: $colors\")\n",
    "\n",
    "// Quitar múltiples elementos\n",
    "colors.removeAll(listOf(\"azul\", \"verde\"))\n",
    "println(\"Después de removeAll: $colors\")\n",
    "\n",
    "// Operador -= para quitar\n",
    "colors -= \"amarillo\"\n",
    "println(\"Después de -=: $colors\")"
   ],
   "outputs": [
    {
     "name": "stdout",
     "output_type": "stream",
     "text": [
      "Lista inicial: [rojo, verde, azul, amarillo, verde, morado]\n",
      "Después de remove 'verde': [rojo, azul, amarillo, verde, morado]\n",
      "Elemento removido: rojo\n",
      "Después de removeAt(0): [azul, amarillo, verde, morado]\n",
      "Último elemento removido: morado\n",
      "Después de removeLast: [azul, amarillo, verde]\n",
      "Después de removeAll: [amarillo]\n",
      "Después de -=: []\n"
     ]
    }
   ],
   "execution_count": 3
  },
  {
   "cell_type": "markdown",
   "id": "cell-7",
   "metadata": {},
   "source": [
    "## Acceso y modificación\n",
    "Acceder y modificar elementos de la lista."
   ]
  },
  {
   "cell_type": "code",
   "id": "cell-8",
   "metadata": {
    "ExecuteTime": {
     "end_time": "2025-07-21T17:07:04.230735Z",
     "start_time": "2025-07-21T17:07:03.986844Z"
    }
   },
   "source": [
    "val grades = mutableListOf(85, 92, 78, 96, 88)\n",
    "println(\"Calificaciones: $grades\")\n",
    "\n",
    "// Acceso por índice\n",
    "println(\"Primera calificación: ${grades[0]}\")\n",
    "println(\"Última calificación: ${grades[grades.size - 1]}\")\n",
    "\n",
    "// Métodos de acceso seguro\n",
    "println(\"Primer elemento: ${grades.first()}\")\n",
    "println(\"Último elemento: ${grades.last()}\")\n",
    "println(\"Elemento en posición 2: ${grades.get(2)}\")\n",
    "\n",
    "// Modificar elementos\n",
    "grades[1] = 95\n",
    "println(\"Después de modificar índice 1: $grades\")\n",
    "\n",
    "// Método set\n",
    "grades.set(3, 100)\n",
    "println(\"Después de set posición 3: $grades\")\n",
    "\n",
    "// Propiedades útiles\n",
    "println(\"Tamaño de la lista: ${grades.size}\")\n",
    "println(\"¿Está vacía?: ${grades.isEmpty()}\")\n",
    "println(\"¿No está vacía?: ${grades.isNotEmpty()}\")"
   ],
   "outputs": [
    {
     "name": "stdout",
     "output_type": "stream",
     "text": [
      "Calificaciones: [85, 92, 78, 96, 88]\n",
      "Primera calificación: 85\n",
      "Última calificación: 88\n",
      "Primer elemento: 85\n",
      "Último elemento: 88\n",
      "Elemento en posición 2: 78\n",
      "Después de modificar índice 1: [85, 95, 78, 96, 88]\n",
      "Después de set posición 3: [85, 95, 78, 100, 88]\n",
      "Tamaño de la lista: 5\n",
      "¿Está vacía?: false\n",
      "¿No está vacía?: true\n"
     ]
    }
   ],
   "execution_count": 4
  },
  {
   "cell_type": "markdown",
   "id": "cell-9",
   "metadata": {},
   "source": [
    "## Buscar elementos\n",
    "Métodos para encontrar elementos en la lista."
   ]
  },
  {
   "cell_type": "code",
   "id": "cell-10",
   "metadata": {
    "ExecuteTime": {
     "end_time": "2025-07-21T17:08:55.152324Z",
     "start_time": "2025-07-21T17:08:54.686419Z"
    }
   },
   "source": [
    "val cities = mutableListOf(\"Madrid\", \"Barcelona\", \"Valencia\", \"Sevilla\", \"Bilbao\")\n",
    "println(\"Ciudades: $cities\")\n",
    "\n",
    "// Verificar si contiene un elemento\n",
    "println(\"¿Contiene Madrid?: ${cities.contains(\"Madrid\")}\")\n",
    "println(\"¿Contiene Lisboa?: ${cities.contains(\"Lisboa\")}\")\n",
    "\n",
    "// Operador 'in' para verificar\n",
    "println(\"¿Barcelona está en la lista?: ${\"Barcelona\" in cities}\")\n",
    "\n",
    "// Encontrar índice\n",
    "println(\"Índice de Valencia: ${cities.indexOf(\"Valencia\")}\")\n",
    "println(\"Índice de Lisboa: ${cities.indexOf(\"Lisboa\")}\") // -1 si no existe\n",
    "\n",
    "// Encontrar último índice\n",
    "cities.add(\"Madrid\") // Agregamos Madrid duplicado\n",
    "println(\"Lista con Madrid duplicado: $cities\")\n",
    "println(\"Primer índice de Madrid: ${cities.indexOf(\"Madrid\")}\")\n",
    "println(\"Último índice de Madrid: ${cities.lastIndexOf(\"Madrid\")}\")\n",
    "\n",
    "// Buscar con condición\n",
    "val longCityName = cities.find { it.length > 7 }\n",
    "println(\"Primera ciudad con más de 7 caracteres: $longCityName\")"
   ],
   "outputs": [
    {
     "name": "stdout",
     "output_type": "stream",
     "text": [
      "Ciudades: [Madrid, Barcelona, Valencia, Sevilla, Bilbao]\n",
      "¿Contiene Madrid?: true\n",
      "¿Contiene Lisboa?: false\n",
      "¿Barcelona está en la lista?: true\n",
      "Índice de Valencia: 2\n",
      "Índice de Lisboa: -1\n",
      "Lista con Madrid duplicado: [Madrid, Barcelona, Valencia, Sevilla, Bilbao, Madrid]\n",
      "Primer índice de Madrid: 0\n",
      "Último índice de Madrid: 5\n",
      "Primera ciudad con más de 7 caracteres: Barcelona\n"
     ]
    }
   ],
   "execution_count": 5
  },
  {
   "cell_type": "markdown",
   "id": "cell-11",
   "metadata": {},
   "source": [
    "## Función `map`\n",
    "Transformar elementos de la lista."
   ]
  },
  {
   "cell_type": "code",
   "id": "cell-12",
   "metadata": {
    "ExecuteTime": {
     "end_time": "2025-07-21T17:15:55.091407Z",
     "start_time": "2025-07-21T17:15:54.866698Z"
    }
   },
   "source": [
    "val numbers = mutableListOf(1, 2, 3, 4, 5)\n",
    "println(\"Números originales: $numbers\")\n",
    "\n",
    "// Transformar a cuadrados\n",
    "val squares = numbers.map { it * it }\n",
    "println(\"Cuadrados: $squares\")\n",
    "\n",
    "// Transformar a strings\n",
    "val numberStrings = numbers.map { \"Número: $it\" }\n",
    "println(\"Como strings: $numberStrings\")\n",
    "\n",
    "val names = mutableListOf(\"ana\", \"carlos\", \"maría\")\n",
    "println(\"Nombres originales: $names\")\n",
    "\n",
    "// Convertir a mayúsculas\n",
    "val upperNames = names.map { it.uppercase() }\n",
    "println(\"En mayúsculas: $upperNames\")\n",
    "\n",
    "// Obtener longitudes\n",
    "val nameLengths = names.map { it.length }\n",
    "println(\"Longitudes: $nameLengths\")"
   ],
   "outputs": [
    {
     "name": "stdout",
     "output_type": "stream",
     "text": [
      "Números originales: [1, 2, 3, 4, 5]\n",
      "Cuadrados: [1, 4, 9, 16, 25]\n",
      "Como strings: [Número: 1, Número: 2, Número: 3, Número: 4, Número: 5]\n",
      "Nombres originales: [ana, carlos, maría]\n",
      "En mayúsculas: [ANA, CARLOS, MARÍA]\n",
      "Longitudes: [3, 6, 5]\n"
     ]
    }
   ],
   "execution_count": 6
  },
  {
   "cell_type": "markdown",
   "id": "cell-13",
   "metadata": {},
   "source": [
    "## Función `filter`\n",
    "Filtrar elementos que cumplen una condición."
   ]
  },
  {
   "cell_type": "code",
   "id": "cell-14",
   "metadata": {
    "ExecuteTime": {
     "end_time": "2025-07-21T17:23:33.541636Z",
     "start_time": "2025-07-21T17:23:33.280011Z"
    }
   },
   "source": [
    "val allNumbers = mutableListOf(1, 2, 3, 4, 5, 6, 7, 8, 9, 10)\n",
    "println(\"Todos los números: $allNumbers\")\n",
    "\n",
    "// Filtrar números pares\n",
    "val evenNumbers = allNumbers.filter { it % 2 == 0 }\n",
    "println(\"Números pares: $evenNumbers\")\n",
    "\n",
    "// Filtrar números mayores a 5\n",
    "val greaterThanFive = allNumbers.filter { it > 5 }\n",
    "println(\"Mayores a 5: $greaterThanFive\")\n",
    "\n",
    "val words = mutableListOf(\"casa\", \"auto\", \"programación\", \"sol\", \"computadora\")\n",
    "println(\"Palabras: $words\")\n",
    "\n",
    "// Filtrar palabras largas\n",
    "val longWords = words.filter { it.length > 4 }\n",
    "println(\"Palabras largas: $longWords\")\n",
    "\n",
    "// Filtrar palabras que contienen 'a'\n",
    "val wordsWithA = words.filter { 'a' in it }\n",
    "println(\"Palabras con 'a': $wordsWithA\")\n",
    "\n",
    "// Combinar filter y map\n",
    "val processedNumbers = allNumbers\n",
    "    .filter { it % 2 == 0 }  // Solo pares\n",
    "    .map { it * 3 }          // Multiplicar por 3\n",
    "println(\"Pares multiplicados por 3: $processedNumbers\")"
   ],
   "outputs": [
    {
     "name": "stdout",
     "output_type": "stream",
     "text": [
      "Todos los números: [1, 2, 3, 4, 5, 6, 7, 8, 9, 10]\n",
      "Números pares: [2, 4, 6, 8, 10]\n",
      "Mayores a 5: [6, 7, 8, 9, 10]\n",
      "Palabras: [casa, auto, programación, sol, computadora]\n",
      "Palabras largas: [programación, computadora]\n",
      "Palabras con 'a': [casa, auto, programación, computadora]\n",
      "Pares multiplicados por 3: [6, 12, 18, 24, 30]\n",
      "[1, 2, 3, 4, 5, 6, 7, 8, 9, 10]\n"
     ]
    }
   ],
   "execution_count": 10
  },
  {
   "cell_type": "markdown",
   "id": "cell-15",
   "metadata": {},
   "source": [
    "## Otras funciones útiles\n",
    "Funciones adicionales para trabajar con listas."
   ]
  },
  {
   "cell_type": "code",
   "id": "cell-16",
   "metadata": {
    "ExecuteTime": {
     "end_time": "2025-07-21T17:24:00.093596Z",
     "start_time": "2025-07-21T17:23:59.921759Z"
    }
   },
   "source": [
    "val scores = mutableListOf(85, 92, 78, 96, 88, 79, 94)\n",
    "println(\"Puntajes: $scores\")\n",
    "\n",
    "// Funciones de agregación\n",
    "println(\"Suma total: ${scores.sum()}\")\n",
    "println(\"Promedio: ${scores.average()}\")\n",
    "println(\"Máximo: ${scores.max()}\")\n",
    "println(\"Mínimo: ${scores.min()}\")\n",
    "println(\"Cantidad: ${scores.count()}\")\n",
    "\n",
    "// Ordenamiento\n",
    "val sortedScores = scores.sorted()\n",
    "println(\"Ordenados ascendente: $sortedScores\")\n",
    "println(scores)\n",
    "\n",
    "val sortedDescending = scores.sortedDescending()\n",
    "println(\"Ordenados descendente: $sortedDescending\")\n",
    "\n",
    "// Ordenar la lista original\n",
    "scores.sort()\n",
    "println(\"Lista original ordenada: $scores\")\n",
    "\n",
    "// Revertir\n",
    "val reversed = scores.reversed()\n",
    "println(\"Revertida: $reversed\")\n",
    "\n",
    "// Revertir la lista original\n",
    "scores.reverse()\n",
    "println(\"Lista original revertida: $scores\")"
   ],
   "outputs": [
    {
     "name": "stdout",
     "output_type": "stream",
     "text": [
      "Puntajes: [85, 92, 78, 96, 88, 79, 94]\n",
      "Suma total: 612\n",
      "Promedio: 87.42857142857143\n",
      "Máximo: 96\n",
      "Mínimo: 78\n",
      "Cantidad: 7\n",
      "Ordenados ascendente: [78, 79, 85, 88, 92, 94, 96]\n",
      "[85, 92, 78, 96, 88, 79, 94]\n",
      "Ordenados descendente: [96, 94, 92, 88, 85, 79, 78]\n",
      "Lista original ordenada: [78, 79, 85, 88, 92, 94, 96]\n",
      "Revertida: [96, 94, 92, 88, 85, 79, 78]\n",
      "Lista original revertida: [96, 94, 92, 88, 85, 79, 78]\n"
     ]
    }
   ],
   "execution_count": 11
  },
  {
   "cell_type": "markdown",
   "id": "cell-17",
   "metadata": {},
   "source": [
    "## Funciones avanzadas\n",
    "Funciones más complejas para manipular listas."
   ]
  },
  {
   "cell_type": "code",
   "id": "cell-18",
   "metadata": {
    "ExecuteTime": {
     "end_time": "2025-07-21T17:32:20.794696Z",
     "start_time": "2025-07-21T17:32:20.628338Z"
    }
   },
   "source": [
    "val products = mutableListOf(\"laptop\", \"mouse\", \"teclado\", \"monitor\", \"laptop\", \"mouse\")\n",
    "println(\"Productos: $products\")\n",
    "\n",
    "// Eliminar duplicados\n",
    "val uniqueProducts = products.distinct()\n",
    "println(\"Productos únicos: $uniqueProducts\")\n",
    "\n",
    "// Tomar los primeros n elementos\n",
    "val firstThree = products.take(3)\n",
    "println(\"Primeros 3: $firstThree\")\n",
    "\n",
    "// Saltar los primeros n elementos\n",
    "val afterTwo = products.drop(2)\n",
    "println(\"Después de saltar 2: $afterTwo\")\n",
    "\n",
    "// Agrupar por longitud\n",
    "val groupedByLength = products.groupBy { it.length }\n",
    "println(\"Agrupados por longitud: $groupedByLength\")\n",
    "\n",
    "// Dividir en chunks\n",
    "val numbers = (1..10).toMutableList()\n",
    "val chunks = numbers.chunked(3)\n",
    "println(\"Números: $numbers\")\n",
    "println(\"En grupos de 3: $chunks\")\n",
    "\n",
    "// Verificar condiciones\n",
    "val testNumbers = mutableListOf(-2, 3, 6, 8)\n",
    "println(\"Números de prueba: $testNumbers\")\n",
    "println(\"¿Todos son pares?: ${testNumbers.all { it % 2 == 0 }}\")\n",
    "println(\"¿Alguno es mayor a 5?: ${testNumbers.any { it > 5 }}\")\n",
    "println(\"¿Ninguno es negativo?: ${testNumbers.none { it < 0 }}\")"
   ],
   "outputs": [
    {
     "name": "stdout",
     "output_type": "stream",
     "text": [
      "Productos: [laptop, mouse, teclado, monitor, laptop, mouse]\n",
      "Productos únicos: [laptop, mouse, teclado, monitor]\n",
      "Primeros 3: [laptop, mouse, teclado]\n",
      "Después de saltar 2: [teclado, monitor, laptop, mouse]\n",
      "Agrupados por longitud: {6=[laptop, laptop], 5=[mouse, mouse], 7=[teclado, monitor]}\n",
      "Números: [1, 2, 3, 4, 5, 6, 7, 8, 9, 10]\n",
      "En grupos de 3: [[1, 2, 3], [4, 5, 6], [7, 8, 9], [10]]\n",
      "Números de prueba: [-2, 3, 6, 8]\n",
      "¿Todos son pares?: false\n",
      "¿Alguno es mayor a 5?: true\n",
      "¿Ninguno es negativo?: false\n"
     ]
    }
   ],
   "execution_count": 16
  }
 ],
 "metadata": {
  "kernelspec": {
   "display_name": "Kotlin",
   "language": "kotlin",
   "name": "kotlin"
  },
  "language_info": {
   "codemirror_mode": "text/x-kotlin",
   "name": "kotlin",
   "nbconvert_exporter": "",
   "pygments_lexer": "kotlin",
   "version": "1.8.20"
  }
 },
 "nbformat": 4,
 "nbformat_minor": 5
}
