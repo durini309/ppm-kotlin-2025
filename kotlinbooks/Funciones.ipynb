{
 "cells": [
  {
   "metadata": {},
   "cell_type": "markdown",
   "source": [
    "# Funciones en Kotlin\n",
    "Las funciones son bloques de código reutilizables que realizan una tarea específica. En Kotlin, las funciones pueden ser declaradas de varias formas y con diferentes características."
   ]
  },
  {
   "metadata": {},
   "cell_type": "markdown",
   "source": [
    "## Función principal (`main`)\n",
    "La función `main` es el punto de entrada de un programa en Kotlin. Es donde comienza la ejecución del programa."
   ]
  },
  {
   "metadata": {
    "collapsed": true,
    "ExecuteTime": {
     "end_time": "2025-07-12T17:56:15.892924Z",
     "start_time": "2025-07-12T17:56:15.855408Z"
    }
   },
   "cell_type": "code",
   "source": [
    "fun main() {\n",
    "\tvar name = \"Juan\"\n",
    "    print(name)\n",
    "}\n",
    "\n",
    "main()"
   ],
   "outputs": [
    {
     "name": "stdout",
     "output_type": "stream",
     "text": [
      "Juan"
     ]
    }
   ],
   "execution_count": 6
  },
  {
   "metadata": {},
   "cell_type": "markdown",
   "source": [
    "## Funciones sin retorno (`void`)\n",
    "Cuando una función no devuelve ningún valor, se considera una función `void`. En Kotlin, estas funciones tienen un tipo de retorno implícito `Unit`, que es similar a `void` en otros lenguajes."
   ]
  },
  {
   "metadata": {
    "ExecuteTime": {
     "end_time": "2025-07-12T17:56:07.549230Z",
     "start_time": "2025-07-12T17:56:07.463982Z"
    }
   },
   "cell_type": "code",
   "source": [
    "fun voidFunction(name: String) {\n",
    "    println(\"Hola $name!\")\n",
    "}\n",
    "\n",
    "// Llamada a la función\n",
    "voidFunction(\"María\")"
   ],
   "outputs": [
    {
     "name": "stdout",
     "output_type": "stream",
     "text": [
      "Hola María!\n"
     ]
    }
   ],
   "execution_count": 4
  },
  {
   "metadata": {},
   "cell_type": "markdown",
   "source": [
    "## Funciones con retorno\n",
    "Las funciones pueden devolver valores. En Kotlin, el tipo de retorno se especifica después de los parámetros, precedido por dos puntos."
   ]
  },
  {
   "metadata": {
    "ExecuteTime": {
     "end_time": "2025-07-10T17:34:18.683998Z",
     "start_time": "2025-07-10T17:34:18.494492Z"
    }
   },
   "cell_type": "code",
   "source": [
    "fun addNumbers(num1: Int, num2: Int): Int {\n",
    "    return num1 + num2\n",
    "}\n",
    "\n",
    "// Llamada a la función y uso del valor retornado\n",
    "val sum = addNumbers(5, 7)\n",
    "println(\"La suma es: $sum\")"
   ],
   "outputs": [
    {
     "name": "stdout",
     "output_type": "stream",
     "text": [
      "La suma es: 12\n"
     ]
    }
   ],
   "execution_count": 2
  },
  {
   "metadata": {},
   "cell_type": "markdown",
   "source": [
    "## Funciones con parámetros por defecto\n",
    "Kotlin permite asignar valores por defecto a los parámetros de una función, lo que hace que estos parámetros sean opcionales al llamar a la función."
   ]
  },
  {
   "metadata": {
    "ExecuteTime": {
     "end_time": "2025-07-10T17:55:30.464736Z",
     "start_time": "2025-07-10T17:55:30.179983Z"
    }
   },
   "cell_type": "code",
   "source": [
    "fun voidFunctionDefault(name: String = \"Juan Carlos\") {\n",
    "    println(\"Hi $name!\")\n",
    "}\n",
    "\n",
    "// Llamada sin parámetros (usa el valor por defecto)\n",
    "voidFunctionDefault()\n",
    "\n",
    "// Llamada con un parámetro específico\n",
    "voidFunctionDefault(\"Ana\")"
   ],
   "outputs": [
    {
     "name": "stdout",
     "output_type": "stream",
     "text": [
      "Hi Juan Carlos!\n",
      "Hi Ana!\n"
     ]
    }
   ],
   "execution_count": 3
  },
  {
   "metadata": {},
   "cell_type": "markdown",
   "source": "## Funciones de expresión única\nCuando una función consiste en una sola expresión, podemos simplificar su declaración usando la sintaxis de expresión única con el operador `=`."
  },
  {
   "metadata": {
    "ExecuteTime": {
     "end_time": "2025-07-13T19:58:38.664Z",
     "start_time": "2025-07-13T19:58:38.179613Z"
    }
   },
   "cell_type": "code",
   "source": [
    "fun addNumbers2(num1: Int, num2: Int) = num1 + num2\n",
    "\n",
    "// Llamada a la función\n",
    "println(\"La suma es: ${addNumbers2(8, 12)}\")"
   ],
   "outputs": [
    {
     "name": "stdout",
     "output_type": "stream",
     "text": [
      "La suma es: 20\n"
     ]
    }
   ],
   "execution_count": 7
  },
  {
   "metadata": {},
   "cell_type": "markdown",
   "source": [
    "## Parámetros nombrados\n",
    "Cuando una función tiene parámetros, normalmente las llamamos así: `addNumbers2(8, 12)`. Si tiene únicamente 1 o 2 parámetros, esto está bien, ¿pero qué pasa cuando son más? esto ya no se vuelve legible.\n",
    "\n",
    "En Kotlin, podemos mandar a llamar funciones y nombrar cada parámetro con su propio valor. Cuando hacemos esto, no hay necesidad de mandar los parámetros en el mismo orden que están definidos."
   ]
  },
  {
   "metadata": {
    "ExecuteTime": {
     "end_time": "2025-07-13T19:58:41.277393Z",
     "start_time": "2025-07-13T19:58:41.127631Z"
    }
   },
   "cell_type": "code",
   "source": [
    "fun sumarYDividir(num1: Int, num2: Int, divisor: Int): Int {\n",
    "    return (num1 + num2) / divisor\n",
    "}\n",
    "\n",
    "val resultado = sumarYDividir(num2 = 5, divisor = 2, num1 = 9)\n",
    "print(\"El resultado es: $resultado\") // debe retornar 7"
   ],
   "outputs": [
    {
     "name": "stdout",
     "output_type": "stream",
     "text": [
      "El resultado es: 7"
     ]
    }
   ],
   "execution_count": 8
  },
  {
   "metadata": {},
   "cell_type": "markdown",
   "source": [
    "## Funciones de orden superior\n",
    "Las funciones de orden superior son aquellas que pueden recibir otras funciones como parámetros o devolver funciones. Esto es una característica poderosa de la programación funcional en Kotlin."
   ]
  },
  {
   "metadata": {},
   "cell_type": "code",
   "outputs": [],
   "execution_count": null,
   "source": [
    "fun processNumber(num: Int, process: (num: Int) -> Int) {\n",
    "    println(process(num))\n",
    "}\n",
    "\n",
    "// Llamada con una expresión lambda como parámetro\n",
    "processNumber(10, { x -> x * 2 })\n",
    "\n",
    "// Sintaxis de lambda fuera de paréntesis cuando es el último parámetro\n",
    "processNumber(5) { x -> x * x }"
   ]
  }
 ],
 "metadata": {
  "kernelspec": {
   "display_name": "Kotlin",
   "language": "kotlin",
   "name": "kotlin"
  },
  "language_info": {
   "name": "kotlin",
   "version": "1.9.23",
   "mimetype": "text/x-kotlin",
   "file_extension": ".kt",
   "pygments_lexer": "kotlin",
   "codemirror_mode": "text/x-kotlin",
   "nbconvert_exporter": ""
  }
 },
 "nbformat": 4,
 "nbformat_minor": 0
}
