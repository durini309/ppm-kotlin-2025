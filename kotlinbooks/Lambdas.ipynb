{
 "cells": [
  {
   "metadata": {},
   "cell_type": "markdown",
   "source": [
    "# Expresiones lambda\n",
    "## ¿Qué son las expresiones lambda?\n",
    "\n",
    "Las expresiones lambda son funciones anónimas que pueden ser asignadas a variables o pasadas como argumentos a otras funciones. En esencia, son bloques de código que se pueden tratar como valores.\n",
    "\n",
    "### Sintaxis básica\n",
    "\n",
    "```kotlin\n",
    "val lambda = { parametros -> cuerpo }\n",
    "```\n",
    "\n",
    "Donde:\n",
    "- `parametros` son los valores de entrada (opcionales)\n",
    "- `->` separa los parámetros del cuerpo de la función\n",
    "- `cuerpo` contiene la lógica que se ejecutará\n",
    "\n",
    "## Ejemplos prácticos\n",
    "\n",
    "### Lambda simple sin parámetros"
   ]
  },
  {
   "metadata": {
    "ExecuteTime": {
     "end_time": "2025-07-21T17:35:24.244297Z",
     "start_time": "2025-07-21T17:35:24.098176Z"
    }
   },
   "cell_type": "code",
   "source": [
    "fun saludar() {\n",
    "    println(\"Hola, mundo!\")\n",
    "}\n",
    "val miLambda = { println(\"Hola, mundo!\") }\n",
    "miLambda()\n",
    "saludar()"
   ],
   "outputs": [
    {
     "name": "stdout",
     "output_type": "stream",
     "text": [
      "Hola, mundo!\n",
      "Hola, mundo!\n"
     ]
    }
   ],
   "execution_count": 2
  },
  {
   "metadata": {},
   "cell_type": "markdown",
   "source": "### Lambda con parámetros"
  },
  {
   "metadata": {
    "ExecuteTime": {
     "end_time": "2025-07-21T17:35:56.150645Z",
     "start_time": "2025-07-21T17:35:55.917831Z"
    }
   },
   "cell_type": "code",
   "source": [
    "val suma = { a: Int, b: Int -> a + b }\n",
    "val resultado = suma(5, 3)\n",
    "println(resultado)"
   ],
   "outputs": [
    {
     "name": "stdout",
     "output_type": "stream",
     "text": [
      "8\n"
     ]
    }
   ],
   "execution_count": 3
  },
  {
   "metadata": {},
   "cell_type": "markdown",
   "source": "### Lambda como argumento de función"
  },
  {
   "metadata": {},
   "cell_type": "code",
   "outputs": [],
   "execution_count": null,
   "source": [
    "val numeros = listOf(1, 2, 3, 4, 5)\n",
    "val numerosPares = numeros.filter { num -> num % 2 == 0 }"
   ]
  },
  {
   "metadata": {},
   "cell_type": "markdown",
   "source": [
    "## Sintaxis simplificada con `it`\n",
    "\n",
    "Cuando una lambda tiene un solo parámetro, puedes usar `it` como referencia implícita:"
   ]
  },
  {
   "metadata": {
    "ExecuteTime": {
     "end_time": "2025-07-21T17:38:26.909872Z",
     "start_time": "2025-07-21T17:38:26.637317Z"
    }
   },
   "cell_type": "code",
   "source": [
    "val numeros = listOf(1, 2, 3, 4, 5)\n",
    "val duplicates = numeros.map { digito -> digito * 2 }\n",
    "val duplicados = numeros.map { it * 2 }\n",
    "println(duplicates)\n",
    "println(duplicados)"
   ],
   "outputs": [
    {
     "name": "stdout",
     "output_type": "stream",
     "text": [
      "[2, 4, 6, 8, 10]\n",
      "[2, 4, 6, 8, 10]\n"
     ]
    }
   ],
   "execution_count": 4
  }
 ],
 "metadata": {
  "kernelspec": {
   "display_name": "Kotlin",
   "language": "kotlin",
   "name": "kotlin"
  },
  "language_info": {
   "name": "kotlin",
   "version": "1.9.23",
   "mimetype": "text/x-kotlin",
   "file_extension": ".kt",
   "pygments_lexer": "kotlin",
   "codemirror_mode": "text/x-kotlin",
   "nbconvert_exporter": ""
  }
 },
 "nbformat": 4,
 "nbformat_minor": 0
}
