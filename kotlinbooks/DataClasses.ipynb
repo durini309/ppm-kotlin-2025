{
 "cells": [
  {
   "cell_type": "markdown",
   "metadata": {},
   "source": [
    "# Data Classes en Kotlin\n",
    "Las data classes son una forma concisa de crear clases que almacenan datos. Kotlin genera automáticamente métodos útiles como `toString()`, `equals()`, `hashCode()` y `copy()`."
   ]
  },
  {
   "cell_type": "markdown",
   "metadata": {},
   "source": [
    "## Data Class Básica\n",
    "Una data class se define con la palabra clave `data` y debe tener al menos un parámetro en el constructor primario."
   ]
  },
  {
   "cell_type": "code",
   "metadata": {
    "ExecuteTime": {
     "end_time": "2025-07-24T16:48:25.934706Z",
     "start_time": "2025-07-24T16:48:25.682304Z"
    }
   },
   "source": [
    "class ClassStudent(\n",
    "    val firstname: String,\n",
    "    val lastname: String,\n",
    "    var career: String\n",
    ")\n",
    "// Data class básica con propiedades inmutables (val)\n",
    "data class Student(\n",
    "    val firstname: String,\n",
    "    val lastname: String,\n",
    "    var career: String  // var permite modificar la propiedad\n",
    ")\n",
    "\n",
    "// Creando instancias\n",
    "val student1 = Student(\"Juan\", \"Durini\", \"Sistemas\")\n",
    "val student2 = Student(\"María\", \"García\", \"Industrial\")\n",
    "val classStudent1 = ClassStudent(\"Juan\", \"Durini\", \"Sistemas\")\n",
    "\n",
    "// toString() generado automáticamente\n",
    "println(student1)\n",
    "println(student2)\n",
    "println(classStudent1)\n",
    "\n",
    "// Modificando propiedades mutables\n",
    "student1.career = \"Mecatrónica\"\n",
    "println(\"Estudiante con carrera actualizada: $student1\")"
   ],
   "outputs": [
    {
     "name": "stdout",
     "output_type": "stream",
     "text": [
      "Student(firstname=Juan, lastname=Durini, career=Sistemas)\n",
      "Student(firstname=María, lastname=García, career=Industrial)\n",
      "Line_3_jupyter$ClassStudent@8d5447d\n",
      "Estudiante con carrera actualizada: Student(firstname=Juan, lastname=Durini, career=Mecatrónica)\n"
     ]
    }
   ],
   "execution_count": 1
  },
  {
   "cell_type": "markdown",
   "metadata": {},
   "source": [
    "## Data Classes con Propiedades Excluidas\n",
    "Las propiedades declaradas en el cuerpo de la clase no se incluyen en los métodos generados automáticamente."
   ]
  },
  {
   "cell_type": "code",
   "metadata": {
    "ExecuteTime": {
     "end_time": "2025-07-24T16:50:50.660557Z",
     "start_time": "2025-07-24T16:50:50.444825Z"
    }
   },
   "source": [
    "// Data class con propiedad excluida\n",
    "data class Phone(\n",
    "    val brand: String\n",
    ") {\n",
    "    var model: String = \"\"  // Esta propiedad no se incluye en equals(), hashCode(), etc.\n",
    "    var price: Double = 0.0\n",
    "}\n",
    "\n",
    "//  also: \"Cuando crees la instancia, hace esto a ese objeto (el cual está almacenado en it)\n",
    "val iphone16 = Phone(\"Apple\").also { it.model = \"16\"; it.price = 999.0 }\n",
    "val iphone15 = Phone(\"Apple\").also { it.model = \"15\"; it.price = 799.0 }\n",
    "\n",
    "println(\"iPhone 16: $iphone16\")\n",
    "println(\"iPhone 15: $iphone15\")\n",
    "\n",
    "// Los phones son iguales porque solo se compara 'brand'\n",
    "println(\"¿Son iguales? ${iphone16 == iphone15}\")\n",
    "println(\"Misma marca, diferentes modelos y precios\")"
   ],
   "outputs": [
    {
     "name": "stdout",
     "output_type": "stream",
     "text": [
      "iPhone 16: Phone(brand=Apple)\n",
      "iPhone 15: Phone(brand=Apple)\n",
      "¿Son iguales? true\n",
      "Misma marca, diferentes modelos y precios\n"
     ]
    }
   ],
   "execution_count": 2
  },
  {
   "cell_type": "markdown",
   "metadata": {},
   "source": [
    "## Data Classes con Métodos Personalizados\n",
    "Puedes agregar métodos personalizados a las data classes."
   ]
  },
  {
   "cell_type": "code",
   "metadata": {
    "ExecuteTime": {
     "end_time": "2025-07-24T16:51:51.082397Z",
     "start_time": "2025-07-24T16:51:50.906670Z"
    }
   },
   "source": [
    "// Data class con métodos personalizados\n",
    "data class Car(\n",
    "    val brand: String,\n",
    "    val color: String,\n",
    "    val year: Int = 2025\n",
    ") {\n",
    "    fun startEngine() {\n",
    "        println(\"🚗 El $brand $color ($year) ha encendido el motor!\")\n",
    "    }\n",
    "    \n",
    "    fun getAge(): Int {\n",
    "        return 2025 - year\n",
    "    }\n",
    "    \n",
    "    fun isVintage(): Boolean {\n",
    "        return getAge() > 25\n",
    "    }\n",
    "}\n",
    "\n",
    "val myCar = Car(brand = \"BMW\", color = \"Negro\", year = 2020)\n",
    "val vintageeCar = Car(\"Volkswagen\", \"Azul\", 1990)\n",
    "\n",
    "println(myCar)\n",
    "myCar.startEngine()\n",
    "println(\"Edad del carro: ${myCar.getAge()} años\")\n",
    "\n",
    "println(\"\\n$vintageeCar\")\n",
    "vintageeCar.startEngine()\n",
    "println(\"¿Es vintage? ${vintageeCar.isVintage()}\")"
   ],
   "outputs": [
    {
     "name": "stdout",
     "output_type": "stream",
     "text": [
      "Car(brand=BMW, color=Negro, year=2020)\n",
      "🚗 El BMW Negro (2020) ha encendido el motor!\n",
      "Edad del carro: 5 años\n",
      "\n",
      "Car(brand=Volkswagen, color=Azul, year=1990)\n",
      "🚗 El Volkswagen Azul (1990) ha encendido el motor!\n",
      "¿Es vintage? true\n"
     ]
    }
   ],
   "execution_count": 3
  },
  {
   "cell_type": "markdown",
   "metadata": {},
   "source": [
    "## Desestructuración (Destructuring)\n",
    "Las data classes permiten desestructuración automática de sus propiedades del constructor primario."
   ]
  },
  {
   "cell_type": "code",
   "metadata": {
    "ExecuteTime": {
     "end_time": "2025-07-21T16:05:08.537414Z",
     "start_time": "2025-07-21T16:05:08.367960Z"
    }
   },
   "source": [
    "data class Person(\n",
    "    val name: String,\n",
    "    val age: Int,\n",
    "    val city: String\n",
    ")\n",
    "\n",
    "val person = Person(\"Ana\", 25, \"Guatemala\")\n",
    "println(\"Persona completa: $person\")\n",
    "\n",
    "// Desestructuración completa\n",
    "val (name, age, city) = person\n",
    "println(\"Nombre: $name\")\n",
    "println(\"Edad: $age años\")\n",
    "println(\"Ciudad: $city\")\n",
    "\n",
    "// Desestructuración parcial (usando underscore para ignorar valores)\n",
    "val (nombre, _, ciudad) = person\n",
    "println(\"\\nSolo nombre y ciudad: $nombre vive en $ciudad\")\n",
    "\n",
    "// Ejemplo con lista de personas\n",
    "val people = listOf(\n",
    "    Person(\"Carlos\", 30, \"Antigua\"),\n",
    "    Person(\"María\", 28, \"Xela\"),\n",
    "    Person(\"José\", 35, \"Escuintla\")\n",
    ")\n",
    "\n",
    "println(\"\\n--- Lista de personas ---\")\n",
    "for ((nombre, edad, _) in people) {\n",
    "    println(\"$nombre tiene $edad años\")\n",
    "}"
   ],
   "outputs": [
    {
     "name": "stdout",
     "output_type": "stream",
     "text": [
      "Persona completa: Person(name=Ana, age=25, city=Guatemala)\n",
      "Nombre: Ana\n",
      "Edad: 25 años\n",
      "Ciudad: Guatemala\n",
      "\n",
      "Solo nombre y ciudad: Ana vive en Guatemala\n",
      "\n",
      "--- Lista de personas ---\n",
      "Carlos tiene 30 años\n",
      "María tiene 28 años\n",
      "José tiene 35 años\n"
     ]
    }
   ],
   "execution_count": 4
  },
  {
   "cell_type": "markdown",
   "metadata": {},
   "source": [
    "## Función `copy()` Generada Automáticamente\n",
    "Kotlin genera automáticamente una función `copy()` que permite crear una copia con algunas propiedades modificadas."
   ]
  },
  {
   "cell_type": "code",
   "metadata": {
    "ExecuteTime": {
     "end_time": "2025-07-24T16:57:11.707357Z",
     "start_time": "2025-07-24T16:57:11.487315Z"
    }
   },
   "source": [
    "data class Employee(\n",
    "    val id: Int,\n",
    "    val name: String,\n",
    "    val department: String,\n",
    "    val salary: Double\n",
    ")\n",
    "\n",
    "val originalEmployee = Employee(1, \"Pedro López\", \"IT\", 5000.0)\n",
    "println(\"Empleado original: $originalEmployee\")\n",
    "\n",
    "// Copia exacta\n",
    "val duplicateEmployee = originalEmployee.copy()\n",
    "println(\"Copia exacta: $duplicateEmployee\")\n",
    "println(\"¿Son iguales? ${originalEmployee == duplicateEmployee}\")\n",
    "\n",
    "// Copia con modificaciones\n",
    "val promotedEmployee = originalEmployee.copy(\n",
    "    department = \"Management\", \n",
    "    salary = 7500.0\n",
    ")\n",
    "println(\"Empleado promovido: $promotedEmployee\")\n",
    "\n",
    "// Copia solo cambiando el salario\n",
    "val employeeWithRaise = originalEmployee.copy(salary = 5500.0)\n",
    "println(\"Empleado con aumento: $employeeWithRaise\")\n",
    "\n",
    "println(\"\\n¿El original cambió? $originalEmployee\")\n",
    "println(\"Las data classes son inmutables por defecto\")"
   ],
   "outputs": [
    {
     "name": "stdout",
     "output_type": "stream",
     "text": [
      "Empleado original: Employee(id=1, name=Pedro López, department=IT, salary=5000.0)\n",
      "Copia exacta: Employee(id=1, name=Pedro López, department=IT, salary=5000.0)\n",
      "¿Son iguales? true\n",
      "Empleado promovido: Employee(id=1, name=Pedro López, department=Management, salary=7500.0)\n",
      "Empleado con aumento: Employee(id=1, name=Pedro López, department=IT, salary=5500.0)\n",
      "\n",
      "¿El original cambió? Employee(id=1, name=Pedro López, department=IT, salary=5000.0)\n",
      "Las data classes son inmutables por defecto\n"
     ]
    }
   ],
   "execution_count": 4
  },
  {
   "cell_type": "markdown",
   "metadata": {},
   "source": [
    "## Comparación de Data Classes\n",
    "Las data classes implementan automáticamente `equals()` y `hashCode()` basándose en las propiedades del constructor primario."
   ]
  },
  {
   "cell_type": "code",
   "metadata": {
    "ExecuteTime": {
     "end_time": "2025-07-24T16:58:21.152569Z",
     "start_time": "2025-07-24T16:58:20.989916Z"
    }
   },
   "source": [
    "data class Book(\n",
    "    val title: String,\n",
    "    val author: String,\n",
    "    val isbn: String\n",
    ")\n",
    "\n",
    "val book1 = Book(\"Kotlin Programming\", \"Juan Pérez\", \"123-456-789\")\n",
    "val book2 = Book(\"Kotlin Programming\", \"Juan Pérez\", \"123-456-789\")\n",
    "val book3 = Book(\"Java Programming\", \"Juan Pérez\", \"987-654-321\")\n",
    "\n",
    "println(\"Libro 1: $book1\")\n",
    "println(\"Libro 2: $book2\")\n",
    "println(\"Libro 3: $book3\")\n",
    "\n",
    "// Comparación de igualdad (basada en el contenido)\n",
    "println(\"\\n¿Libro 1 == Libro 2? ${book1 == book2}\")\n",
    "println(\"¿Libro 1 === Libro 2? ${book1 === book2}\")  // ¿Mismo objeto en memoria?\n",
    "println(\"¿Libro 1 == Libro 3? ${book1 == book3}\")\n",
    "\n",
    "// HashCode\n",
    "println(\"\\nHashCode libro 1: ${book1.hashCode()}\")\n",
    "println(\"HashCode libro 2: ${book2.hashCode()}\")\n",
    "println(\"HashCode libro 3: ${book3.hashCode()}\")"
   ],
   "outputs": [
    {
     "name": "stdout",
     "output_type": "stream",
     "text": [
      "Libro 1: Book(title=Kotlin Programming, author=Juan Pérez, isbn=123-456-789)\n",
      "Libro 2: Book(title=Kotlin Programming, author=Juan Pérez, isbn=123-456-789)\n",
      "Libro 3: Book(title=Java Programming, author=Juan Pérez, isbn=987-654-321)\n",
      "\n",
      "¿Libro 1 == Libro 2? true\n",
      "¿Libro 1 === Libro 2? false\n",
      "¿Libro 1 == Libro 3? false\n",
      "\n",
      "HashCode libro 1: -927143111\n",
      "HashCode libro 2: -927143111\n",
      "HashCode libro 3: 135997210\n"
     ]
    }
   ],
   "execution_count": 5
  },
  {
   "cell_type": "markdown",
   "metadata": {},
   "source": [
    "## Ejemplo Práctico Completo\n",
    "Un ejemplo que combina todos los conceptos anteriores."
   ]
  },
  {
   "cell_type": "code",
   "execution_count": null,
   "metadata": {},
   "outputs": [],
   "source": [
    "// Sistema de gestión de productos\n",
    "data class Product(\n",
    "    val id: Int,\n",
    "    val name: String,\n",
    "    val price: Double,\n",
    "    val category: String\n",
    ") {\n",
    "    var stock: Int = 0  // Propiedad excluida de comparaciones\n",
    "    \n",
    "    fun applyDiscount(percentage: Double): Product {\n",
    "        val discountedPrice = price * (1 - percentage / 100)\n",
    "        return copy(price = discountedPrice)\n",
    "    }\n",
    "    \n",
    "    fun isExpensive(): Boolean = price > 100.0\n",
    "    fun isInStock(): Boolean = stock > 0\n",
    "}\n",
    "\n",
    "// Creando productos\n",
    "val laptop = Product(1, \"Laptop Gaming\", 1200.0, \"Electrónicos\").also { it.stock = 5 }\n",
    "val mouse = Product(2, \"Mouse Inalámbrico\", 25.0, \"Electrónicos\").also { it.stock = 0 }\n",
    "val book = Product(3, \"Libro Kotlin\", 45.0, \"Libros\").also { it.stock = 10 }\n",
    "\n",
    "val products = listOf(laptop, mouse, book)\n",
    "\n",
    "println(\"=== INVENTARIO DE PRODUCTOS ===\")\n",
    "for ((id, name, price, category) in products) {\n",
    "    println(\"[$id] $name - $${String.format(\"%.2f\", price)} ($category)\")\n",
    "}\n",
    "\n",
    "println(\"\\n=== ANÁLISIS DE PRODUCTOS ===\")\n",
    "products.forEach { product ->\n",
    "    println(\"${product.name}:\")\n",
    "    println(\"  • ¿Caro? ${product.isExpensive()}\")\n",
    "    println(\"  • ¿En stock? ${product.isInStock()} (${product.stock} unidades)\")\n",
    "    \n",
    "    if (product.isExpensive()) {\n",
    "        val discounted = product.applyDiscount(15.0)\n",
    "        println(\"  • Con 15% descuento: $${String.format(\"%.2f\", discounted.price)}\")\n",
    "    }\n",
    "    println()\n",
    "}\n",
    "\n",
    "// Productos únicos (mismo ID, name, price, category son iguales)\n",
    "val duplicateLaptop = Product(1, \"Laptop Gaming\", 1200.0, \"Electrónicos\")\n",
    "println(\"¿Laptop original == Laptop duplicada? ${laptop == duplicateLaptop}\")\n",
    "println(\"(El stock no afecta la comparación)\")"
   ]
  }
 ],
 "metadata": {
  "kernelspec": {
   "display_name": "Kotlin",
   "language": "kotlin",
   "name": "kotlin"
  },
  "language_info": {
   "codemirror_mode": "text/x-kotlin",
   "file_extension": ".kt",
   "mimetype": "text/x-kotlin",
   "name": "kotlin",
   "nbconvert_exporter": "",
   "pygments_lexer": "kotlin",
   "version": "1.9.23"
  }
 },
 "nbformat": 4,
 "nbformat_minor": 4
}
