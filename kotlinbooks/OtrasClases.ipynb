{
 "cells": [
  {
   "cell_type": "markdown",
   "metadata": {},
   "source": [
    "# Otras Clases en Kotlin\n",
    "Exploramos tipos especiales de clases: enums, sealed classes y sealed interfaces usando ejemplos de HTTP."
   ]
  },
  {
   "cell_type": "markdown",
   "metadata": {},
   "source": [
    "## Enum Classes (Enumeraciones)\n",
    "Las enums representan un conjunto fijo de constantes, ideales para valores que no cambian."
   ]
  },
  {
   "cell_type": "code",
   "metadata": {
    "vscode": {
     "languageId": "kotlin"
    },
    "ExecuteTime": {
     "end_time": "2025-07-24T17:07:37.906632Z",
     "start_time": "2025-07-24T17:07:37.684993Z"
    }
   },
   "source": [
    "// Enum básico para códigos HTTP\n",
    "enum class HttpStatus {\n",
    "    OK,\n",
    "    NOT_FOUND,\n",
    "    SERVER_ERROR\n",
    "}\n",
    "\n",
    "// Usar el enum\n",
    "val status = HttpStatus.OK\n",
    "println(\"Estado: $status\")\n",
    "println(\"Nombre: ${status.name}\")\n",
    "println(\"Posición: ${status.ordinal}\")"
   ],
   "outputs": [
    {
     "name": "stdout",
     "output_type": "stream",
     "text": [
      "Estado: OK\n",
      "Nombre: OK\n",
      "Posición: 0\n",
      "200\n"
     ]
    }
   ],
   "execution_count": 1
  },
  {
   "cell_type": "code",
   "metadata": {
    "vscode": {
     "languageId": "kotlin"
    },
    "ExecuteTime": {
     "end_time": "2025-07-24T17:09:57.117645Z",
     "start_time": "2025-07-24T17:09:56.878593Z"
    }
   },
   "source": [
    "// Enum con propiedades - Códigos de error HTTP\n",
    "enum class HttpErrorEnum(val code: Int, val message: String) {\n",
    "    Unauthorized(401, \"No tienes permisos\"),\n",
    "    NotFound(404, \"Recurso no encontrado\"),\n",
    "    ServerUnavailable(503, \"Servicio no disponible\");\n",
    "    \n",
    "    // Función dentro del enum\n",
    "    fun getFullMessage(): String {\n",
    "        return \"Error $code: $message\"\n",
    "    }\n",
    "}\n",
    "\n",
    "// Usar enum con propiedades\n",
    "val error = HttpErrorEnum.Unauthorized\n",
    "println(\"Código: ${error.code}\")\n",
    "println(\"Mensaje: ${error.message}\")\n",
    "println(\"Mensaje completo: ${error.getFullMessage()}\")\n",
    "\n",
    "println(\"\\n--- Todos los errores ---\")\n",
    "// Iterar sobre todos los valores\n",
    "HttpErrorEnum.values().forEach { httpError ->\n",
    "    println(httpError.getFullMessage())\n",
    "}"
   ],
   "outputs": [
    {
     "name": "stdout",
     "output_type": "stream",
     "text": [
      "Código: 401\n",
      "Mensaje: No tienes permisos\n",
      "Mensaje completo: Error 401: No tienes permisos\n",
      "\n",
      "--- Todos los errores ---\n",
      "Error 401: No tienes permisos\n",
      "Error 404: Recurso no encontrado\n",
      "Error 503: Servicio no disponible\n"
     ]
    }
   ],
   "execution_count": 2
  },
  {
   "cell_type": "markdown",
   "metadata": {},
   "source": [
    "## Sealed Classes (Clases Selladas)\n",
    "Representan jerarquías de clases restringidas donde todos los subtipos son conocidos en tiempo de compilación."
   ]
  },
  {
   "cell_type": "code",
   "metadata": {
    "vscode": {
     "languageId": "kotlin"
    },
    "ExecuteTime": {
     "end_time": "2025-07-21T16:24:53.040893Z",
     "start_time": "2025-07-21T16:24:52.816668Z"
    }
   },
   "source": [
    "// Sealed class para respuestas HTTP\n",
    "sealed class HttpResponse {\n",
    "    data class Success(val data: String, val statusCode: Int = 200): HttpResponse()\n",
    "    data class Error(val message: String, val statusCode: Int): HttpResponse()\n",
    "    object Loading: HttpResponse()\n",
    "}\n",
    "\n",
    "// Función para procesar respuestas\n",
    "fun processResponse(response: HttpResponse): String = when(response) {\n",
    "    is HttpResponse.Success -> \"✅ Éxito (${response.statusCode}): ${response.data}\"\n",
    "    is HttpResponse.Error -> \"❌ Error (${response.statusCode}): ${response.message}\"\n",
    "    HttpResponse.Loading -> \"⏳ Cargando...\"\n",
    "}\n",
    "\n",
    "// Ejemplos de uso\n",
    "val responses = listOf(\n",
    "    HttpResponse.Success(\"Datos del usuario obtenidos\", 200),\n",
    "    HttpResponse.Error(\"Usuario no encontrado\", 404),\n",
    "    HttpResponse.Loading,\n",
    "    HttpResponse.Error(\"Servidor no disponible\", 503)\n",
    ")\n",
    "\n",
    "responses.forEach { response ->\n",
    "    println(processResponse(response))\n",
    "}"
   ],
   "outputs": [
    {
     "name": "stdout",
     "output_type": "stream",
     "text": [
      "✅ Éxito (200): Datos del usuario obtenidos\n",
      "❌ Error (404): Usuario no encontrado\n",
      "⏳ Cargando...\n",
      "❌ Error (503): Servidor no disponible\n"
     ]
    }
   ],
   "execution_count": 3
  },
  {
   "cell_type": "code",
   "metadata": {
    "vscode": {
     "languageId": "kotlin"
    },
    "ExecuteTime": {
     "end_time": "2025-07-21T16:25:31.863102Z",
     "start_time": "2025-07-21T16:25:31.719730Z"
    }
   },
   "source": [
    "// Sealed class más compleja para errores HTTP\n",
    "sealed class HttpErrorClass(val code: Int) {\n",
    "    data class Unauthorized(val reason: String): HttpErrorClass(401)\n",
    "    object NotFound: HttpErrorClass(404)\n",
    "    data class ServerUnavailable(val exception: String): HttpErrorClass(503)\n",
    "    data class BadRequest(val validationErrors: List<String>): HttpErrorClass(400)\n",
    "    \n",
    "    // Función común para todas las subclases\n",
    "    fun isServerError(): Boolean {\n",
    "        return code >= 500\n",
    "    }\n",
    "    \n",
    "    fun isClientError(): Boolean {\n",
    "        return code in 400..499\n",
    "    }\n",
    "}\n",
    "\n",
    "fun getErrorClass(error: HttpErrorClass): String = when(error) {\n",
    "    is HttpErrorClass.Unauthorized -> \"${error.code}. Usuario no autorizado. Razón: ${error.reason}\"\n",
    "    HttpErrorClass.NotFound -> \"${error.code}. Recurso no encontrado\"\n",
    "    is HttpErrorClass.ServerUnavailable -> \"${error.code}. Servicio no disponible. Excepción: ${error.exception}\"\n",
    "    is HttpErrorClass.BadRequest -> \"${error.code}. Solicitud inválida. Errores: ${error.validationErrors.joinToString(\", \")}\"\n",
    "}\n",
    "\n",
    "// Ejemplos de errores\n",
    "val errors = listOf(\n",
    "    HttpErrorClass.Unauthorized(\"Token expirado\"),\n",
    "    HttpErrorClass.NotFound,\n",
    "    HttpErrorClass.ServerUnavailable(\"Base de datos no disponible\"),\n",
    "    HttpErrorClass.BadRequest(listOf(\"Email inválido\", \"Contraseña muy corta\"))\n",
    ")\n",
    "\n",
    "errors.forEach { error ->\n",
    "    println(getErrorClass(error))\n",
    "    println(\"¿Es error del servidor? ${error.isServerError()}\")\n",
    "    println(\"¿Es error del cliente? ${error.isClientError()}\")\n",
    "    println(\"---\")\n",
    "}"
   ],
   "outputs": [
    {
     "name": "stdout",
     "output_type": "stream",
     "text": [
      "401. Usuario no autorizado. Razón: Token expirado\n",
      "¿Es error del servidor? false\n",
      "¿Es error del cliente? true\n",
      "---\n",
      "404. Recurso no encontrado\n",
      "¿Es error del servidor? false\n",
      "¿Es error del cliente? true\n",
      "---\n",
      "503. Servicio no disponible. Excepción: Base de datos no disponible\n",
      "¿Es error del servidor? true\n",
      "¿Es error del cliente? false\n",
      "---\n",
      "400. Solicitud inválida. Errores: Email inválido, Contraseña muy corta\n",
      "¿Es error del servidor? false\n",
      "¿Es error del cliente? true\n",
      "---\n"
     ]
    }
   ],
   "execution_count": 4
  },
  {
   "cell_type": "markdown",
   "metadata": {},
   "source": [
    "## Sealed Interfaces\n",
    "Similar a sealed classes, pero usando interfaces para mayor flexibilidad en la herencia."
   ]
  },
  {
   "cell_type": "code",
   "execution_count": null,
   "metadata": {
    "vscode": {
     "languageId": "kotlin"
    }
   },
   "outputs": [],
   "source": [
    "// Sealed interface para errores HTTP\n",
    "sealed interface HttpErrorInterface {\n",
    "    val timestamp: Long get() = System.currentTimeMillis()\n",
    "    \n",
    "    data class Unauthorized(val reason: String): HttpErrorInterface\n",
    "    object NotFound: HttpErrorInterface\n",
    "    data class ServerUnavailable(val exception: String): HttpErrorInterface\n",
    "    data class RateLimited(val retryAfter: Int): HttpErrorInterface\n",
    "}\n",
    "\n",
    "// Interface adicional que pueden implementar algunos errores\n",
    "interface Retryable {\n",
    "    fun shouldRetry(): Boolean\n",
    "    fun getRetryDelay(): Long\n",
    "}\n",
    "\n",
    "// Clase que implementa tanto la sealed interface como Retryable\n",
    "data class NetworkTimeout(val timeoutDuration: Long) : HttpErrorInterface, Retryable {\n",
    "    override fun shouldRetry(): Boolean = true\n",
    "    override fun getRetryDelay(): Long = timeoutDuration * 2\n",
    "}\n",
    "\n",
    "fun getErrorInterface(error: HttpErrorInterface): String = when(error) {\n",
    "    is HttpErrorInterface.Unauthorized -> \"Usuario no autorizado. Razón: ${error.reason}\"\n",
    "    HttpErrorInterface.NotFound -> \"Recurso no encontrado\"\n",
    "    is HttpErrorInterface.ServerUnavailable -> \"Servicio no disponible. Razón: ${error.exception}\"\n",
    "    is HttpErrorInterface.RateLimited -> \"Límite de requests excedido. Reintentar en ${error.retryAfter} segundos\"\n",
    "    is NetworkTimeout -> \"Timeout de red después de ${error.timeoutDuration}ms\"\n",
    "}\n",
    "\n",
    "// Función para manejar errores que pueden reintentarse\n",
    "fun handleError(error: HttpErrorInterface) {\n",
    "    println(\"Error: ${getErrorInterface(error)}\")\n",
    "    println(\"Timestamp: ${error.timestamp}\")\n",
    "    \n",
    "    if (error is Retryable && error.shouldRetry()) {\n",
    "        println(\"Se puede reintentar en ${error.getRetryDelay()}ms\")\n",
    "    } else {\n",
    "        println(\"Error no recuperable\")\n",
    "    }\n",
    "    println(\"---\")\n",
    "}\n",
    "\n",
    "// Ejemplos\n",
    "val interfaceErrors = listOf(\n",
    "    HttpErrorInterface.Unauthorized(\"Sesión expirada\"),\n",
    "    HttpErrorInterface.NotFound,\n",
    "    HttpErrorInterface.ServerUnavailable(\"Mantenimiento programado\"),\n",
    "    HttpErrorInterface.RateLimited(30),\n",
    "    NetworkTimeout(5000)\n",
    ")\n",
    "\n",
    "interfaceErrors.forEach { error ->\n",
    "    handleError(error)\n",
    "}"
   ]
  },
  {
   "cell_type": "markdown",
   "metadata": {},
   "source": "## Diferencias claras: Sealed Class vs Sealed Interface\nAquí están las diferencias principales y cuándo usar cada uno."
  },
  {
   "cell_type": "code",
   "execution_count": null,
   "metadata": {
    "vscode": {
     "languageId": "kotlin"
    }
   },
   "outputs": [],
   "source": [
    "// Estado de una petición HTTP usando diferentes enfoques\n",
    "\n",
    "// 1. Enum: Para estados fijos sin datos asociados\n",
    "enum class RequestState {\n",
    "    IDLE, LOADING, SUCCESS, ERROR\n",
    "}\n",
    "\n",
    "// 2. Siempre debe llevar un constructor\n",
    "sealed class RequestResult {\n",
    "    object Idle : RequestResult()\n",
    "    object Loading : RequestResult()\n",
    "    data class Success(val data: String, val headers: Map<String, String>) : RequestResult()\n",
    "    data class Error(val exception: Throwable, val statusCode: Int?) : RequestResult()\n",
    "}\n",
    "\n",
    "// 3. No necesita contsructor\n",
    "sealed interface ApiResult {\n",
    "    data class Success(val data: String) : ApiResult\n",
    "    data class Error(val exception: Throwable) : ApiResult\n",
    "    object Loading : ApiResult\n",
    "}"
   ]
  },
  {
   "cell_type": "markdown",
   "metadata": {},
   "source": [
    "## Ejemplo completo: Sistema de autenticación HTTP\n",
    "Combinando todos los conceptos en un ejemplo práctico."
   ]
  },
  {
   "cell_type": "code",
   "execution_count": null,
   "metadata": {
    "vscode": {
     "languageId": "kotlin"
    }
   },
   "outputs": [],
   "source": [
    "// Enum para roles de usuario\n",
    "enum class UserRole(val permissions: List<String>) {\n",
    "    ADMIN(listOf(\"read\", \"write\", \"delete\", \"admin\")),\n",
    "    MODERATOR(listOf(\"read\", \"write\", \"moderate\")),\n",
    "    USER(listOf(\"read\", \"write\")),\n",
    "    GUEST(listOf(\"read\"));\n",
    "\n",
    "    fun canPerform(action: String): Boolean {\n",
    "        return permissions.contains(action)\n",
    "    }\n",
    "}\n",
    "\n",
    "// Sealed class para resultado de autenticación\n",
    "sealed class AuthResult {\n",
    "    data class Success(val token: String, val user: AuthUser) : AuthResult()\n",
    "    data class Failed(val reason: AuthError) : AuthResult()\n",
    "    object InProgress : AuthResult()\n",
    "}\n",
    "\n",
    "// Sealed interface para errores de autenticación\n",
    "sealed interface AuthError {\n",
    "    val message: String\n",
    "\n",
    "    data class InvalidCredentials(override val message: String = \"Usuario o contraseña incorrectos\") : AuthError\n",
    "    data class AccountLocked(val unlockTime: Long, override val message: String = \"Cuenta bloqueada\") : AuthError\n",
    "    data class NetworkError(val exception: Exception, override val message: String = \"Error de conexión\") : AuthError\n",
    "    object ServerError : AuthError {\n",
    "        override val message: String = \"Error interno del servidor\"\n",
    "    }\n",
    "}\n",
    "\n",
    "// Data class para usuario\n",
    "data class AuthUser(\n",
    "    val id: Int,\n",
    "    val username: String,\n",
    "    val email: String,\n",
    "    val role: UserRole\n",
    ")\n",
    "\n",
    "// Sistema de autenticación\n",
    "class AuthSystem {\n",
    "\n",
    "    fun authenticate(username: String, password: String): AuthResult {\n",
    "        return when {\n",
    "            username.isEmpty() || password.isEmpty() ->\n",
    "                AuthResult.Failed(AuthError.InvalidCredentials())\n",
    "\n",
    "            username == \"admin\" && password == \"admin123\" -> {\n",
    "                val user = AuthUser(1, \"admin\", \"admin@sistema.com\", UserRole.ADMIN)\n",
    "                AuthResult.Success(\"token_admin_123\", user)\n",
    "            }\n",
    "\n",
    "            username == \"user\" && password == \"user123\" -> {\n",
    "                val user = AuthUser(2, \"user\", \"user@sistema.com\", UserRole.USER)\n",
    "                AuthResult.Success(\"token_user_456\", user)\n",
    "            }\n",
    "\n",
    "            username == \"locked\" ->\n",
    "                AuthResult.Failed(AuthError.AccountLocked(System.currentTimeMillis() + 300000))\n",
    "\n",
    "            else -> AuthResult.Failed(AuthError.InvalidCredentials())\n",
    "        }\n",
    "    }\n",
    "\n",
    "    fun handleAuthResult(result: AuthResult) {\n",
    "        when (result) {\n",
    "            is AuthResult.Success -> {\n",
    "                println(\"✅ Autenticación exitosa\")\n",
    "                println(\"   Usuario: ${result.user.username}\")\n",
    "                println(\"   Rol: ${result.user.role}\")\n",
    "                println(\"   Permisos: ${result.user.role.permissions.joinToString(\", \")}\")\n",
    "                println(\"   Token: ${result.token}\")\n",
    "\n",
    "                // Probar permisos\n",
    "                val actions = listOf(\"read\", \"write\", \"delete\", \"admin\")\n",
    "                actions.forEach { action ->\n",
    "                    val canPerform = result.user.role.canPerform(action)\n",
    "                    val status = if (canPerform) \"✅\" else \"❌\"\n",
    "                    println(\"   $status Puede realizar: $action\")\n",
    "                }\n",
    "            }\n",
    "\n",
    "            is AuthResult.Failed -> {\n",
    "                println(\"❌ Autenticación fallida\")\n",
    "                when (val error = result.reason) {\n",
    "                    is AuthError.InvalidCredentials ->\n",
    "                        println(\"   Razón: ${error.message}\")\n",
    "\n",
    "                    is AuthError.AccountLocked -> {\n",
    "                        println(\"   Razón: ${error.message}\")\n",
    "                        println(\"   Se desbloqueará en: ${error.unlockTime - System.currentTimeMillis()}ms\")\n",
    "                    }\n",
    "\n",
    "                    is AuthError.NetworkError -> {\n",
    "                        println(\"   Razón: ${error.message}\")\n",
    "                        println(\"   Excepción: ${error.exception.message}\")\n",
    "                    }\n",
    "\n",
    "                    AuthError.ServerError ->\n",
    "                        println(\"   Razón: ${error.message}\")\n",
    "                }\n",
    "            }\n",
    "\n",
    "            AuthResult.InProgress ->\n",
    "                println(\"⏳ Autenticando...\")\n",
    "        }\n",
    "        println()\n",
    "    }\n",
    "}\n",
    "\n",
    "// Pruebas del sistema\n",
    "val authSystem = AuthSystem()\n",
    "\n",
    "val testCredentials = listOf(\n",
    "    Pair(\"admin\", \"admin123\"),\n",
    "    Pair(\"user\", \"user123\"),\n",
    "    Pair(\"guest\", \"wrong\"),\n",
    "    Pair(\"locked\", \"password\"),\n",
    "    Pair(\"\", \"\")\n",
    ")\n",
    "\n",
    "testCredentials.forEach { (username, password) ->\n",
    "    println(\"=== Probando: $username / $password ===\")\n",
    "    val result = authSystem.authenticate(username, password)\n",
    "    authSystem.handleAuthResult(result)\n",
    "}"
   ]
  }
 ],
 "metadata": {
  "kernelspec": {
   "display_name": "Kotlin",
   "language": "kotlin",
   "name": "kotlin"
  },
  "language_info": {
   "codemirror_mode": "text/x-kotlin",
   "file_extension": ".kt",
   "mimetype": "text/x-kotlin",
   "name": "kotlin",
   "nbconvert_exporter": "",
   "pygments_lexer": "kotlin",
   "version": "1.9.0"
  }
 },
 "nbformat": 4,
 "nbformat_minor": 4
}
